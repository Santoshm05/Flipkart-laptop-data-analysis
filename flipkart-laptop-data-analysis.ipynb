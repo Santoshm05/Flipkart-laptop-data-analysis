{
 "cells": [
  {
   "cell_type": "code",
   "execution_count": 1,
   "id": "74aec45a",
   "metadata": {
    "_cell_guid": "b1076dfc-b9ad-4769-8c92-a6c4dae69d19",
    "_uuid": "8f2839f25d086af736a60e9eeb907d3b93b6e0e5",
    "execution": {
     "iopub.execute_input": "2023-02-02T11:21:09.654708Z",
     "iopub.status.busy": "2023-02-02T11:21:09.654276Z",
     "iopub.status.idle": "2023-02-02T11:21:09.673778Z",
     "shell.execute_reply": "2023-02-02T11:21:09.672419Z"
    },
    "papermill": {
     "duration": 0.032639,
     "end_time": "2023-02-02T11:21:09.676358",
     "exception": false,
     "start_time": "2023-02-02T11:21:09.643719",
     "status": "completed"
    },
    "tags": []
   },
   "outputs": [
    {
     "name": "stdout",
     "output_type": "stream",
     "text": [
      "/kaggle/input/best-flipkart-laptop-under-70000/Flipkart laptops_info.csv\n"
     ]
    }
   ],
   "source": [
    "# This Python 3 environment comes with many helpful analytics libraries installed\n",
    "# It is defined by the kaggle/python Docker image: https://github.com/kaggle/docker-python\n",
    "# For example, here's several helpful packages to load\n",
    "\n",
    "import numpy as np # linear algebra\n",
    "import pandas as pd # data processing, CSV file I/O (e.g. pd.read_csv)\n",
    "\n",
    "# Input data files are available in the read-only \"../input/\" directory\n",
    "# For example, running this (by clicking run or pressing Shift+Enter) will list all files under the input directory\n",
    "\n",
    "import os\n",
    "for dirname, _, filenames in os.walk('/kaggle/input'):\n",
    "    for filename in filenames:\n",
    "        print(os.path.join(dirname, filename))\n",
    "\n",
    "# You can write up to 20GB to the current directory (/kaggle/working/) that gets preserved as output when you create a version using \"Save & Run All\" \n",
    "# You can also write temporary files to /kaggle/temp/, but they won't be saved outside of the current session"
   ]
  },
  {
   "cell_type": "code",
   "execution_count": 2,
   "id": "15546d90",
   "metadata": {
    "execution": {
     "iopub.execute_input": "2023-02-02T11:21:09.694988Z",
     "iopub.status.busy": "2023-02-02T11:21:09.694638Z",
     "iopub.status.idle": "2023-02-02T11:21:10.554986Z",
     "shell.execute_reply": "2023-02-02T11:21:10.554312Z"
    },
    "papermill": {
     "duration": 0.87167,
     "end_time": "2023-02-02T11:21:10.556996",
     "exception": false,
     "start_time": "2023-02-02T11:21:09.685326",
     "status": "completed"
    },
    "tags": []
   },
   "outputs": [],
   "source": [
    "import matplotlib.pyplot as plt\n",
    "import seaborn as sns\n",
    "import missingno as msno"
   ]
  },
  {
   "cell_type": "code",
   "execution_count": 3,
   "id": "909db340",
   "metadata": {
    "execution": {
     "iopub.execute_input": "2023-02-02T11:21:10.574029Z",
     "iopub.status.busy": "2023-02-02T11:21:10.573698Z",
     "iopub.status.idle": "2023-02-02T11:21:10.597818Z",
     "shell.execute_reply": "2023-02-02T11:21:10.596727Z"
    },
    "papermill": {
     "duration": 0.035407,
     "end_time": "2023-02-02T11:21:10.600476",
     "exception": false,
     "start_time": "2023-02-02T11:21:10.565069",
     "status": "completed"
    },
    "tags": []
   },
   "outputs": [
    {
     "name": "stderr",
     "output_type": "stream",
     "text": [
      "/opt/conda/lib/python3.7/site-packages/IPython/core/interactiveshell.py:3552: FutureWarning: The error_bad_lines argument has been deprecated and will be removed in a future version.\n",
      "\n",
      "\n",
      "  exec(code_obj, self.user_global_ns, self.user_ns)\n",
      "b'Skipping line 116: expected 10 fields, saw 17\\nSkipping line 117: expected 10 fields, saw 17\\nSkipping line 141: expected 10 fields, saw 14\\nSkipping line 145: expected 10 fields, saw 15\\nSkipping line 168: expected 10 fields, saw 12\\nSkipping line 195: expected 10 fields, saw 14\\nSkipping line 250: expected 10 fields, saw 12\\nSkipping line 279: expected 10 fields, saw 12\\nSkipping line 311: expected 10 fields, saw 19\\nSkipping line 455: expected 10 fields, saw 12\\nSkipping line 467: expected 10 fields, saw 13\\nSkipping line 470: expected 10 fields, saw 12\\nSkipping line 516: expected 10 fields, saw 11\\nSkipping line 520: expected 10 fields, saw 19\\nSkipping line 583: expected 10 fields, saw 13\\n'\n"
     ]
    }
   ],
   "source": [
    "df = pd.read_csv(\"/kaggle/input/best-flipkart-laptop-under-70000/Flipkart laptops_info.csv\",error_bad_lines = False)"
   ]
  },
  {
   "cell_type": "code",
   "execution_count": 4,
   "id": "540374b4",
   "metadata": {
    "execution": {
     "iopub.execute_input": "2023-02-02T11:21:10.618893Z",
     "iopub.status.busy": "2023-02-02T11:21:10.618520Z",
     "iopub.status.idle": "2023-02-02T11:21:10.648252Z",
     "shell.execute_reply": "2023-02-02T11:21:10.646795Z"
    },
    "papermill": {
     "duration": 0.041421,
     "end_time": "2023-02-02T11:21:10.650308",
     "exception": false,
     "start_time": "2023-02-02T11:21:10.608887",
     "status": "completed"
    },
    "tags": []
   },
   "outputs": [
    {
     "data": {
      "text/html": [
       "<div>\n",
       "<style scoped>\n",
       "    .dataframe tbody tr th:only-of-type {\n",
       "        vertical-align: middle;\n",
       "    }\n",
       "\n",
       "    .dataframe tbody tr th {\n",
       "        vertical-align: top;\n",
       "    }\n",
       "\n",
       "    .dataframe thead th {\n",
       "        text-align: right;\n",
       "    }\n",
       "</style>\n",
       "<table border=\"1\" class=\"dataframe\">\n",
       "  <thead>\n",
       "    <tr style=\"text-align: right;\">\n",
       "      <th></th>\n",
       "      <th>ProductName</th>\n",
       "      <th>Stars</th>\n",
       "      <th>Ratings</th>\n",
       "      <th>Reviews</th>\n",
       "      <th>Current_Price</th>\n",
       "      <th>MRP</th>\n",
       "      <th>Proccessor</th>\n",
       "      <th>Ram</th>\n",
       "      <th>Storage</th>\n",
       "      <th>ImageURL</th>\n",
       "    </tr>\n",
       "  </thead>\n",
       "  <tbody>\n",
       "    <tr>\n",
       "      <th>0</th>\n",
       "      <td>Lenovo IdeaPad 3 Core i3 10th Gen</td>\n",
       "      <td>4.3</td>\n",
       "      <td>8</td>\n",
       "      <td>0</td>\n",
       "      <td>31990</td>\n",
       "      <td>53790</td>\n",
       "      <td>Intel Core i3 Processor (10th Gen)</td>\n",
       "      <td>4 GB DDR4 RAM</td>\n",
       "      <td>256 GB SSD</td>\n",
       "      <td>https://rukminim1.flixcart.com/image/312/312/x...</td>\n",
       "    </tr>\n",
       "    <tr>\n",
       "      <th>1</th>\n",
       "      <td>realme Book(Slim) Intel Evo Core i5 11th Gen</td>\n",
       "      <td>4.4</td>\n",
       "      <td>7067</td>\n",
       "      <td>949</td>\n",
       "      <td>59990</td>\n",
       "      <td>69999</td>\n",
       "      <td>Powered by 11th Gen Intel Evo Core i5 Processor</td>\n",
       "      <td>Microsoft Office 2019 Home &amp; Student Included</td>\n",
       "      <td>Intel Core i5 Processor (11th Gen)</td>\n",
       "      <td>https://rukminim1.flixcart.com/image/312/312/k...</td>\n",
       "    </tr>\n",
       "    <tr>\n",
       "      <th>2</th>\n",
       "      <td>ASUS VivoBook 15 (2022) Core i3 10th Gen</td>\n",
       "      <td>4.3</td>\n",
       "      <td>9970</td>\n",
       "      <td>999</td>\n",
       "      <td>32990</td>\n",
       "      <td>45990</td>\n",
       "      <td>Intel Core i3 Processor (10th Gen)</td>\n",
       "      <td>8 GB DDR4 RAM</td>\n",
       "      <td>512 GB SSD</td>\n",
       "      <td>https://rukminim1.flixcart.com/image/312/312/x...</td>\n",
       "    </tr>\n",
       "    <tr>\n",
       "      <th>3</th>\n",
       "      <td>HP Pavilion Ryzen 5 Hexa Core AMD R5</td>\n",
       "      <td>4.4</td>\n",
       "      <td>11854</td>\n",
       "      <td>1199</td>\n",
       "      <td>52990</td>\n",
       "      <td>63539</td>\n",
       "      <td>AMD Ryzen 5 Hexa Core Processor</td>\n",
       "      <td>8 GB DDR4 RAM</td>\n",
       "      <td>512 GB SSD</td>\n",
       "      <td>https://rukminim1.flixcart.com/image/312/312/k...</td>\n",
       "    </tr>\n",
       "    <tr>\n",
       "      <th>4</th>\n",
       "      <td>Lenovo Intel Celeron Dual Core</td>\n",
       "      <td>4.1</td>\n",
       "      <td>366</td>\n",
       "      <td>35</td>\n",
       "      <td>28490</td>\n",
       "      <td>40490</td>\n",
       "      <td>Intel Celeron Dual Core Processor</td>\n",
       "      <td>8 GB DDR4 RAM</td>\n",
       "      <td>256 GB SSD</td>\n",
       "      <td>https://rukminim1.flixcart.com/image/312/312/k...</td>\n",
       "    </tr>\n",
       "    <tr>\n",
       "      <th>...</th>\n",
       "      <td>...</td>\n",
       "      <td>...</td>\n",
       "      <td>...</td>\n",
       "      <td>...</td>\n",
       "      <td>...</td>\n",
       "      <td>...</td>\n",
       "      <td>...</td>\n",
       "      <td>...</td>\n",
       "      <td>...</td>\n",
       "      <td>...</td>\n",
       "    </tr>\n",
       "    <tr>\n",
       "      <th>676</th>\n",
       "      <td>Infinix INBook X2 Plus Core i3 11th Gen</td>\n",
       "      <td>4.1</td>\n",
       "      <td>146</td>\n",
       "      <td>32</td>\n",
       "      <td>40990</td>\n",
       "      <td>49990</td>\n",
       "      <td>Intel Core i3 Processor (11th Gen)</td>\n",
       "      <td>8 GB LPDDR4X RAM</td>\n",
       "      <td>512 GB SSD</td>\n",
       "      <td>https://rukminim1.flixcart.com/image/312/312/x...</td>\n",
       "    </tr>\n",
       "    <tr>\n",
       "      <th>677</th>\n",
       "      <td>DELL Inspiron Ryzen 3 Dual Core 3250U</td>\n",
       "      <td>4.5</td>\n",
       "      <td>4</td>\n",
       "      <td>0</td>\n",
       "      <td>40790</td>\n",
       "      <td>50132</td>\n",
       "      <td>AMD Ryzen 3 Dual Core Processor</td>\n",
       "      <td>8 GB DDR4 RAM</td>\n",
       "      <td>256 GB SSD</td>\n",
       "      <td>https://rukminim1.flixcart.com/image/312/312/k...</td>\n",
       "    </tr>\n",
       "    <tr>\n",
       "      <th>678</th>\n",
       "      <td>MSI Core i3 12th Gen</td>\n",
       "      <td>0.0</td>\n",
       "      <td>0</td>\n",
       "      <td>0</td>\n",
       "      <td>45490</td>\n",
       "      <td>58990</td>\n",
       "      <td>Intel Core i3 Processor (12th Gen)</td>\n",
       "      <td>8 GB DDR4 RAM</td>\n",
       "      <td>512 GB SSD</td>\n",
       "      <td>https://rukminim1.flixcart.com/image/312/312/x...</td>\n",
       "    </tr>\n",
       "    <tr>\n",
       "      <th>679</th>\n",
       "      <td>ASUS Core i3 10th Gen</td>\n",
       "      <td>4.7</td>\n",
       "      <td>12</td>\n",
       "      <td>0</td>\n",
       "      <td>33990</td>\n",
       "      <td>45499</td>\n",
       "      <td>Intel Core i3 Processor (10th Gen)</td>\n",
       "      <td>8 GB DDR4 RAM</td>\n",
       "      <td>512 GB SSD</td>\n",
       "      <td>https://rukminim1.flixcart.com/image/312/312/k...</td>\n",
       "    </tr>\n",
       "    <tr>\n",
       "      <th>680</th>\n",
       "      <td>HP Pavilion Ryzen 5 Hexa Core 5625U</td>\n",
       "      <td>4.5</td>\n",
       "      <td>199</td>\n",
       "      <td>15</td>\n",
       "      <td>63990</td>\n",
       "      <td>72536</td>\n",
       "      <td>AMD Ryzen 5 Hexa Core Processor</td>\n",
       "      <td>16 GB DDR4 RAM</td>\n",
       "      <td>512 GB SSD</td>\n",
       "      <td>https://rukminim1.flixcart.com/image/312/312/l...</td>\n",
       "    </tr>\n",
       "  </tbody>\n",
       "</table>\n",
       "<p>681 rows × 10 columns</p>\n",
       "</div>"
      ],
      "text/plain": [
       "                                      ProductName  Stars  Ratings  Reviews  \\\n",
       "0               Lenovo IdeaPad 3 Core i3 10th Gen    4.3        8        0   \n",
       "1    realme Book(Slim) Intel Evo Core i5 11th Gen    4.4     7067      949   \n",
       "2        ASUS VivoBook 15 (2022) Core i3 10th Gen    4.3     9970      999   \n",
       "3            HP Pavilion Ryzen 5 Hexa Core AMD R5    4.4    11854     1199   \n",
       "4                  Lenovo Intel Celeron Dual Core    4.1      366       35   \n",
       "..                                            ...    ...      ...      ...   \n",
       "676       Infinix INBook X2 Plus Core i3 11th Gen    4.1      146       32   \n",
       "677         DELL Inspiron Ryzen 3 Dual Core 3250U    4.5        4        0   \n",
       "678                          MSI Core i3 12th Gen    0.0        0        0   \n",
       "679                         ASUS Core i3 10th Gen    4.7       12        0   \n",
       "680           HP Pavilion Ryzen 5 Hexa Core 5625U    4.5      199       15   \n",
       "\n",
       "     Current_Price    MRP                                       Proccessor  \\\n",
       "0            31990  53790               Intel Core i3 Processor (10th Gen)   \n",
       "1            59990  69999  Powered by 11th Gen Intel Evo Core i5 Processor   \n",
       "2            32990  45990               Intel Core i3 Processor (10th Gen)   \n",
       "3            52990  63539                  AMD Ryzen 5 Hexa Core Processor   \n",
       "4            28490  40490                Intel Celeron Dual Core Processor   \n",
       "..             ...    ...                                              ...   \n",
       "676          40990  49990               Intel Core i3 Processor (11th Gen)   \n",
       "677          40790  50132                  AMD Ryzen 3 Dual Core Processor   \n",
       "678          45490  58990               Intel Core i3 Processor (12th Gen)   \n",
       "679          33990  45499               Intel Core i3 Processor (10th Gen)   \n",
       "680          63990  72536                  AMD Ryzen 5 Hexa Core Processor   \n",
       "\n",
       "                                               Ram  \\\n",
       "0                                    4 GB DDR4 RAM   \n",
       "1    Microsoft Office 2019 Home & Student Included   \n",
       "2                                    8 GB DDR4 RAM   \n",
       "3                                    8 GB DDR4 RAM   \n",
       "4                                    8 GB DDR4 RAM   \n",
       "..                                             ...   \n",
       "676                               8 GB LPDDR4X RAM   \n",
       "677                                  8 GB DDR4 RAM   \n",
       "678                                  8 GB DDR4 RAM   \n",
       "679                                  8 GB DDR4 RAM   \n",
       "680                                 16 GB DDR4 RAM   \n",
       "\n",
       "                                Storage  \\\n",
       "0                            256 GB SSD   \n",
       "1    Intel Core i5 Processor (11th Gen)   \n",
       "2                            512 GB SSD   \n",
       "3                            512 GB SSD   \n",
       "4                            256 GB SSD   \n",
       "..                                  ...   \n",
       "676                          512 GB SSD   \n",
       "677                          256 GB SSD   \n",
       "678                          512 GB SSD   \n",
       "679                          512 GB SSD   \n",
       "680                          512 GB SSD   \n",
       "\n",
       "                                              ImageURL  \n",
       "0    https://rukminim1.flixcart.com/image/312/312/x...  \n",
       "1    https://rukminim1.flixcart.com/image/312/312/k...  \n",
       "2    https://rukminim1.flixcart.com/image/312/312/x...  \n",
       "3    https://rukminim1.flixcart.com/image/312/312/k...  \n",
       "4    https://rukminim1.flixcart.com/image/312/312/k...  \n",
       "..                                                 ...  \n",
       "676  https://rukminim1.flixcart.com/image/312/312/x...  \n",
       "677  https://rukminim1.flixcart.com/image/312/312/k...  \n",
       "678  https://rukminim1.flixcart.com/image/312/312/x...  \n",
       "679  https://rukminim1.flixcart.com/image/312/312/k...  \n",
       "680  https://rukminim1.flixcart.com/image/312/312/l...  \n",
       "\n",
       "[681 rows x 10 columns]"
      ]
     },
     "execution_count": 4,
     "metadata": {},
     "output_type": "execute_result"
    }
   ],
   "source": [
    "df"
   ]
  },
  {
   "cell_type": "code",
   "execution_count": 5,
   "id": "0cfbc63e",
   "metadata": {
    "execution": {
     "iopub.execute_input": "2023-02-02T11:21:10.669888Z",
     "iopub.status.busy": "2023-02-02T11:21:10.669319Z",
     "iopub.status.idle": "2023-02-02T11:21:10.682304Z",
     "shell.execute_reply": "2023-02-02T11:21:10.681417Z"
    },
    "papermill": {
     "duration": 0.024726,
     "end_time": "2023-02-02T11:21:10.684331",
     "exception": false,
     "start_time": "2023-02-02T11:21:10.659605",
     "status": "completed"
    },
    "tags": []
   },
   "outputs": [
    {
     "data": {
      "text/html": [
       "<div>\n",
       "<style scoped>\n",
       "    .dataframe tbody tr th:only-of-type {\n",
       "        vertical-align: middle;\n",
       "    }\n",
       "\n",
       "    .dataframe tbody tr th {\n",
       "        vertical-align: top;\n",
       "    }\n",
       "\n",
       "    .dataframe thead th {\n",
       "        text-align: right;\n",
       "    }\n",
       "</style>\n",
       "<table border=\"1\" class=\"dataframe\">\n",
       "  <thead>\n",
       "    <tr style=\"text-align: right;\">\n",
       "      <th></th>\n",
       "      <th>ProductName</th>\n",
       "      <th>Stars</th>\n",
       "      <th>Ratings</th>\n",
       "      <th>Reviews</th>\n",
       "      <th>Current_Price</th>\n",
       "      <th>MRP</th>\n",
       "      <th>Proccessor</th>\n",
       "      <th>Ram</th>\n",
       "      <th>Storage</th>\n",
       "      <th>ImageURL</th>\n",
       "    </tr>\n",
       "  </thead>\n",
       "  <tbody>\n",
       "    <tr>\n",
       "      <th>0</th>\n",
       "      <td>Lenovo IdeaPad 3 Core i3 10th Gen</td>\n",
       "      <td>4.3</td>\n",
       "      <td>8</td>\n",
       "      <td>0</td>\n",
       "      <td>31990</td>\n",
       "      <td>53790</td>\n",
       "      <td>Intel Core i3 Processor (10th Gen)</td>\n",
       "      <td>4 GB DDR4 RAM</td>\n",
       "      <td>256 GB SSD</td>\n",
       "      <td>https://rukminim1.flixcart.com/image/312/312/x...</td>\n",
       "    </tr>\n",
       "    <tr>\n",
       "      <th>1</th>\n",
       "      <td>realme Book(Slim) Intel Evo Core i5 11th Gen</td>\n",
       "      <td>4.4</td>\n",
       "      <td>7067</td>\n",
       "      <td>949</td>\n",
       "      <td>59990</td>\n",
       "      <td>69999</td>\n",
       "      <td>Powered by 11th Gen Intel Evo Core i5 Processor</td>\n",
       "      <td>Microsoft Office 2019 Home &amp; Student Included</td>\n",
       "      <td>Intel Core i5 Processor (11th Gen)</td>\n",
       "      <td>https://rukminim1.flixcart.com/image/312/312/k...</td>\n",
       "    </tr>\n",
       "    <tr>\n",
       "      <th>2</th>\n",
       "      <td>ASUS VivoBook 15 (2022) Core i3 10th Gen</td>\n",
       "      <td>4.3</td>\n",
       "      <td>9970</td>\n",
       "      <td>999</td>\n",
       "      <td>32990</td>\n",
       "      <td>45990</td>\n",
       "      <td>Intel Core i3 Processor (10th Gen)</td>\n",
       "      <td>8 GB DDR4 RAM</td>\n",
       "      <td>512 GB SSD</td>\n",
       "      <td>https://rukminim1.flixcart.com/image/312/312/x...</td>\n",
       "    </tr>\n",
       "    <tr>\n",
       "      <th>3</th>\n",
       "      <td>HP Pavilion Ryzen 5 Hexa Core AMD R5</td>\n",
       "      <td>4.4</td>\n",
       "      <td>11854</td>\n",
       "      <td>1199</td>\n",
       "      <td>52990</td>\n",
       "      <td>63539</td>\n",
       "      <td>AMD Ryzen 5 Hexa Core Processor</td>\n",
       "      <td>8 GB DDR4 RAM</td>\n",
       "      <td>512 GB SSD</td>\n",
       "      <td>https://rukminim1.flixcart.com/image/312/312/k...</td>\n",
       "    </tr>\n",
       "    <tr>\n",
       "      <th>4</th>\n",
       "      <td>Lenovo Intel Celeron Dual Core</td>\n",
       "      <td>4.1</td>\n",
       "      <td>366</td>\n",
       "      <td>35</td>\n",
       "      <td>28490</td>\n",
       "      <td>40490</td>\n",
       "      <td>Intel Celeron Dual Core Processor</td>\n",
       "      <td>8 GB DDR4 RAM</td>\n",
       "      <td>256 GB SSD</td>\n",
       "      <td>https://rukminim1.flixcart.com/image/312/312/k...</td>\n",
       "    </tr>\n",
       "  </tbody>\n",
       "</table>\n",
       "</div>"
      ],
      "text/plain": [
       "                                    ProductName  Stars  Ratings  Reviews  \\\n",
       "0             Lenovo IdeaPad 3 Core i3 10th Gen    4.3        8        0   \n",
       "1  realme Book(Slim) Intel Evo Core i5 11th Gen    4.4     7067      949   \n",
       "2      ASUS VivoBook 15 (2022) Core i3 10th Gen    4.3     9970      999   \n",
       "3          HP Pavilion Ryzen 5 Hexa Core AMD R5    4.4    11854     1199   \n",
       "4                Lenovo Intel Celeron Dual Core    4.1      366       35   \n",
       "\n",
       "   Current_Price    MRP                                       Proccessor  \\\n",
       "0          31990  53790               Intel Core i3 Processor (10th Gen)   \n",
       "1          59990  69999  Powered by 11th Gen Intel Evo Core i5 Processor   \n",
       "2          32990  45990               Intel Core i3 Processor (10th Gen)   \n",
       "3          52990  63539                  AMD Ryzen 5 Hexa Core Processor   \n",
       "4          28490  40490                Intel Celeron Dual Core Processor   \n",
       "\n",
       "                                             Ram  \\\n",
       "0                                  4 GB DDR4 RAM   \n",
       "1  Microsoft Office 2019 Home & Student Included   \n",
       "2                                  8 GB DDR4 RAM   \n",
       "3                                  8 GB DDR4 RAM   \n",
       "4                                  8 GB DDR4 RAM   \n",
       "\n",
       "                              Storage  \\\n",
       "0                          256 GB SSD   \n",
       "1  Intel Core i5 Processor (11th Gen)   \n",
       "2                          512 GB SSD   \n",
       "3                          512 GB SSD   \n",
       "4                          256 GB SSD   \n",
       "\n",
       "                                            ImageURL  \n",
       "0  https://rukminim1.flixcart.com/image/312/312/x...  \n",
       "1  https://rukminim1.flixcart.com/image/312/312/k...  \n",
       "2  https://rukminim1.flixcart.com/image/312/312/x...  \n",
       "3  https://rukminim1.flixcart.com/image/312/312/k...  \n",
       "4  https://rukminim1.flixcart.com/image/312/312/k...  "
      ]
     },
     "execution_count": 5,
     "metadata": {},
     "output_type": "execute_result"
    }
   ],
   "source": [
    "df.head()"
   ]
  },
  {
   "cell_type": "code",
   "execution_count": 6,
   "id": "3d19a180",
   "metadata": {
    "execution": {
     "iopub.execute_input": "2023-02-02T11:21:10.703379Z",
     "iopub.status.busy": "2023-02-02T11:21:10.703001Z",
     "iopub.status.idle": "2023-02-02T11:21:10.716733Z",
     "shell.execute_reply": "2023-02-02T11:21:10.715738Z"
    },
    "papermill": {
     "duration": 0.025677,
     "end_time": "2023-02-02T11:21:10.718921",
     "exception": false,
     "start_time": "2023-02-02T11:21:10.693244",
     "status": "completed"
    },
    "tags": []
   },
   "outputs": [
    {
     "data": {
      "text/html": [
       "<div>\n",
       "<style scoped>\n",
       "    .dataframe tbody tr th:only-of-type {\n",
       "        vertical-align: middle;\n",
       "    }\n",
       "\n",
       "    .dataframe tbody tr th {\n",
       "        vertical-align: top;\n",
       "    }\n",
       "\n",
       "    .dataframe thead th {\n",
       "        text-align: right;\n",
       "    }\n",
       "</style>\n",
       "<table border=\"1\" class=\"dataframe\">\n",
       "  <thead>\n",
       "    <tr style=\"text-align: right;\">\n",
       "      <th></th>\n",
       "      <th>ProductName</th>\n",
       "      <th>Stars</th>\n",
       "      <th>Ratings</th>\n",
       "      <th>Reviews</th>\n",
       "      <th>Current_Price</th>\n",
       "      <th>MRP</th>\n",
       "      <th>Proccessor</th>\n",
       "      <th>Ram</th>\n",
       "      <th>Storage</th>\n",
       "      <th>ImageURL</th>\n",
       "    </tr>\n",
       "  </thead>\n",
       "  <tbody>\n",
       "    <tr>\n",
       "      <th>676</th>\n",
       "      <td>Infinix INBook X2 Plus Core i3 11th Gen</td>\n",
       "      <td>4.1</td>\n",
       "      <td>146</td>\n",
       "      <td>32</td>\n",
       "      <td>40990</td>\n",
       "      <td>49990</td>\n",
       "      <td>Intel Core i3 Processor (11th Gen)</td>\n",
       "      <td>8 GB LPDDR4X RAM</td>\n",
       "      <td>512 GB SSD</td>\n",
       "      <td>https://rukminim1.flixcart.com/image/312/312/x...</td>\n",
       "    </tr>\n",
       "    <tr>\n",
       "      <th>677</th>\n",
       "      <td>DELL Inspiron Ryzen 3 Dual Core 3250U</td>\n",
       "      <td>4.5</td>\n",
       "      <td>4</td>\n",
       "      <td>0</td>\n",
       "      <td>40790</td>\n",
       "      <td>50132</td>\n",
       "      <td>AMD Ryzen 3 Dual Core Processor</td>\n",
       "      <td>8 GB DDR4 RAM</td>\n",
       "      <td>256 GB SSD</td>\n",
       "      <td>https://rukminim1.flixcart.com/image/312/312/k...</td>\n",
       "    </tr>\n",
       "    <tr>\n",
       "      <th>678</th>\n",
       "      <td>MSI Core i3 12th Gen</td>\n",
       "      <td>0.0</td>\n",
       "      <td>0</td>\n",
       "      <td>0</td>\n",
       "      <td>45490</td>\n",
       "      <td>58990</td>\n",
       "      <td>Intel Core i3 Processor (12th Gen)</td>\n",
       "      <td>8 GB DDR4 RAM</td>\n",
       "      <td>512 GB SSD</td>\n",
       "      <td>https://rukminim1.flixcart.com/image/312/312/x...</td>\n",
       "    </tr>\n",
       "    <tr>\n",
       "      <th>679</th>\n",
       "      <td>ASUS Core i3 10th Gen</td>\n",
       "      <td>4.7</td>\n",
       "      <td>12</td>\n",
       "      <td>0</td>\n",
       "      <td>33990</td>\n",
       "      <td>45499</td>\n",
       "      <td>Intel Core i3 Processor (10th Gen)</td>\n",
       "      <td>8 GB DDR4 RAM</td>\n",
       "      <td>512 GB SSD</td>\n",
       "      <td>https://rukminim1.flixcart.com/image/312/312/k...</td>\n",
       "    </tr>\n",
       "    <tr>\n",
       "      <th>680</th>\n",
       "      <td>HP Pavilion Ryzen 5 Hexa Core 5625U</td>\n",
       "      <td>4.5</td>\n",
       "      <td>199</td>\n",
       "      <td>15</td>\n",
       "      <td>63990</td>\n",
       "      <td>72536</td>\n",
       "      <td>AMD Ryzen 5 Hexa Core Processor</td>\n",
       "      <td>16 GB DDR4 RAM</td>\n",
       "      <td>512 GB SSD</td>\n",
       "      <td>https://rukminim1.flixcart.com/image/312/312/l...</td>\n",
       "    </tr>\n",
       "  </tbody>\n",
       "</table>\n",
       "</div>"
      ],
      "text/plain": [
       "                                 ProductName  Stars  Ratings  Reviews  \\\n",
       "676  Infinix INBook X2 Plus Core i3 11th Gen    4.1      146       32   \n",
       "677    DELL Inspiron Ryzen 3 Dual Core 3250U    4.5        4        0   \n",
       "678                     MSI Core i3 12th Gen    0.0        0        0   \n",
       "679                    ASUS Core i3 10th Gen    4.7       12        0   \n",
       "680      HP Pavilion Ryzen 5 Hexa Core 5625U    4.5      199       15   \n",
       "\n",
       "     Current_Price    MRP                          Proccessor  \\\n",
       "676          40990  49990  Intel Core i3 Processor (11th Gen)   \n",
       "677          40790  50132     AMD Ryzen 3 Dual Core Processor   \n",
       "678          45490  58990  Intel Core i3 Processor (12th Gen)   \n",
       "679          33990  45499  Intel Core i3 Processor (10th Gen)   \n",
       "680          63990  72536     AMD Ryzen 5 Hexa Core Processor   \n",
       "\n",
       "                  Ram     Storage  \\\n",
       "676  8 GB LPDDR4X RAM  512 GB SSD   \n",
       "677     8 GB DDR4 RAM  256 GB SSD   \n",
       "678     8 GB DDR4 RAM  512 GB SSD   \n",
       "679     8 GB DDR4 RAM  512 GB SSD   \n",
       "680    16 GB DDR4 RAM  512 GB SSD   \n",
       "\n",
       "                                              ImageURL  \n",
       "676  https://rukminim1.flixcart.com/image/312/312/x...  \n",
       "677  https://rukminim1.flixcart.com/image/312/312/k...  \n",
       "678  https://rukminim1.flixcart.com/image/312/312/x...  \n",
       "679  https://rukminim1.flixcart.com/image/312/312/k...  \n",
       "680  https://rukminim1.flixcart.com/image/312/312/l...  "
      ]
     },
     "execution_count": 6,
     "metadata": {},
     "output_type": "execute_result"
    }
   ],
   "source": [
    "df.tail()"
   ]
  },
  {
   "cell_type": "code",
   "execution_count": 7,
   "id": "c5fd4cdb",
   "metadata": {
    "execution": {
     "iopub.execute_input": "2023-02-02T11:21:10.738637Z",
     "iopub.status.busy": "2023-02-02T11:21:10.738264Z",
     "iopub.status.idle": "2023-02-02T11:21:10.762318Z",
     "shell.execute_reply": "2023-02-02T11:21:10.760667Z"
    },
    "papermill": {
     "duration": 0.036807,
     "end_time": "2023-02-02T11:21:10.764808",
     "exception": false,
     "start_time": "2023-02-02T11:21:10.728001",
     "status": "completed"
    },
    "tags": []
   },
   "outputs": [
    {
     "name": "stdout",
     "output_type": "stream",
     "text": [
      "<class 'pandas.core.frame.DataFrame'>\n",
      "RangeIndex: 681 entries, 0 to 680\n",
      "Data columns (total 10 columns):\n",
      " #   Column         Non-Null Count  Dtype  \n",
      "---  ------         --------------  -----  \n",
      " 0   ProductName    681 non-null    object \n",
      " 1   Stars          681 non-null    float64\n",
      " 2   Ratings        681 non-null    int64  \n",
      " 3   Reviews        681 non-null    int64  \n",
      " 4   Current_Price  681 non-null    int64  \n",
      " 5   MRP            681 non-null    int64  \n",
      " 6   Proccessor     681 non-null    object \n",
      " 7   Ram            681 non-null    object \n",
      " 8   Storage        681 non-null    object \n",
      " 9   ImageURL       681 non-null    object \n",
      "dtypes: float64(1), int64(4), object(5)\n",
      "memory usage: 53.3+ KB\n"
     ]
    }
   ],
   "source": [
    "df.info()"
   ]
  },
  {
   "cell_type": "code",
   "execution_count": 8,
   "id": "2bc5157f",
   "metadata": {
    "execution": {
     "iopub.execute_input": "2023-02-02T11:21:10.785875Z",
     "iopub.status.busy": "2023-02-02T11:21:10.785512Z",
     "iopub.status.idle": "2023-02-02T11:21:10.791187Z",
     "shell.execute_reply": "2023-02-02T11:21:10.790547Z"
    },
    "papermill": {
     "duration": 0.018542,
     "end_time": "2023-02-02T11:21:10.792737",
     "exception": false,
     "start_time": "2023-02-02T11:21:10.774195",
     "status": "completed"
    },
    "tags": []
   },
   "outputs": [
    {
     "data": {
      "text/plain": [
       "(681, 10)"
      ]
     },
     "execution_count": 8,
     "metadata": {},
     "output_type": "execute_result"
    }
   ],
   "source": [
    "df.shape"
   ]
  },
  {
   "cell_type": "code",
   "execution_count": 9,
   "id": "6084cdb6",
   "metadata": {
    "execution": {
     "iopub.execute_input": "2023-02-02T11:21:10.812725Z",
     "iopub.status.busy": "2023-02-02T11:21:10.811702Z",
     "iopub.status.idle": "2023-02-02T11:21:10.820248Z",
     "shell.execute_reply": "2023-02-02T11:21:10.819278Z"
    },
    "papermill": {
     "duration": 0.020214,
     "end_time": "2023-02-02T11:21:10.821933",
     "exception": false,
     "start_time": "2023-02-02T11:21:10.801719",
     "status": "completed"
    },
    "tags": []
   },
   "outputs": [
    {
     "data": {
      "text/plain": [
       "ProductName       object\n",
       "Stars            float64\n",
       "Ratings            int64\n",
       "Reviews            int64\n",
       "Current_Price      int64\n",
       "MRP                int64\n",
       "Proccessor        object\n",
       "Ram               object\n",
       "Storage           object\n",
       "ImageURL          object\n",
       "dtype: object"
      ]
     },
     "execution_count": 9,
     "metadata": {},
     "output_type": "execute_result"
    }
   ],
   "source": [
    "df.dtypes"
   ]
  },
  {
   "cell_type": "code",
   "execution_count": 10,
   "id": "a91228f2",
   "metadata": {
    "execution": {
     "iopub.execute_input": "2023-02-02T11:21:10.841795Z",
     "iopub.status.busy": "2023-02-02T11:21:10.841136Z",
     "iopub.status.idle": "2023-02-02T11:21:10.854715Z",
     "shell.execute_reply": "2023-02-02T11:21:10.853590Z"
    },
    "papermill": {
     "duration": 0.02531,
     "end_time": "2023-02-02T11:21:10.856519",
     "exception": false,
     "start_time": "2023-02-02T11:21:10.831209",
     "status": "completed"
    },
    "tags": []
   },
   "outputs": [
    {
     "data": {
      "text/html": [
       "<div>\n",
       "<style scoped>\n",
       "    .dataframe tbody tr th:only-of-type {\n",
       "        vertical-align: middle;\n",
       "    }\n",
       "\n",
       "    .dataframe tbody tr th {\n",
       "        vertical-align: top;\n",
       "    }\n",
       "\n",
       "    .dataframe thead th {\n",
       "        text-align: right;\n",
       "    }\n",
       "</style>\n",
       "<table border=\"1\" class=\"dataframe\">\n",
       "  <thead>\n",
       "    <tr style=\"text-align: right;\">\n",
       "      <th></th>\n",
       "      <th>ProductName</th>\n",
       "      <th>Stars</th>\n",
       "      <th>Ratings</th>\n",
       "      <th>Reviews</th>\n",
       "      <th>Current_Price</th>\n",
       "      <th>MRP</th>\n",
       "      <th>Proccessor</th>\n",
       "      <th>Ram</th>\n",
       "      <th>Storage</th>\n",
       "      <th>ImageURL</th>\n",
       "    </tr>\n",
       "  </thead>\n",
       "  <tbody>\n",
       "    <tr>\n",
       "      <th>0</th>\n",
       "      <td>Lenovo IdeaPad 3 Core i3 10th Gen</td>\n",
       "      <td>4.3</td>\n",
       "      <td>8</td>\n",
       "      <td>0</td>\n",
       "      <td>31990</td>\n",
       "      <td>53790</td>\n",
       "      <td>Intel Core i3 Processor (10th Gen)</td>\n",
       "      <td>4 GB DDR4 RAM</td>\n",
       "      <td>256 GB SSD</td>\n",
       "      <td>https://rukminim1.flixcart.com/image/312/312/x...</td>\n",
       "    </tr>\n",
       "    <tr>\n",
       "      <th>1</th>\n",
       "      <td>realme Book(Slim) Intel Evo Core i5 11th Gen</td>\n",
       "      <td>4.4</td>\n",
       "      <td>7067</td>\n",
       "      <td>949</td>\n",
       "      <td>59990</td>\n",
       "      <td>69999</td>\n",
       "      <td>Powered by 11th Gen Intel Evo Core i5 Processor</td>\n",
       "      <td>Microsoft Office 2019 Home &amp; Student Included</td>\n",
       "      <td>Intel Core i5 Processor (11th Gen)</td>\n",
       "      <td>https://rukminim1.flixcart.com/image/312/312/k...</td>\n",
       "    </tr>\n",
       "    <tr>\n",
       "      <th>2</th>\n",
       "      <td>ASUS VivoBook 15 (2022) Core i3 10th Gen</td>\n",
       "      <td>4.3</td>\n",
       "      <td>9970</td>\n",
       "      <td>999</td>\n",
       "      <td>32990</td>\n",
       "      <td>45990</td>\n",
       "      <td>Intel Core i3 Processor (10th Gen)</td>\n",
       "      <td>8 GB DDR4 RAM</td>\n",
       "      <td>512 GB SSD</td>\n",
       "      <td>https://rukminim1.flixcart.com/image/312/312/x...</td>\n",
       "    </tr>\n",
       "  </tbody>\n",
       "</table>\n",
       "</div>"
      ],
      "text/plain": [
       "                                    ProductName  Stars  Ratings  Reviews  \\\n",
       "0             Lenovo IdeaPad 3 Core i3 10th Gen    4.3        8        0   \n",
       "1  realme Book(Slim) Intel Evo Core i5 11th Gen    4.4     7067      949   \n",
       "2      ASUS VivoBook 15 (2022) Core i3 10th Gen    4.3     9970      999   \n",
       "\n",
       "   Current_Price    MRP                                       Proccessor  \\\n",
       "0          31990  53790               Intel Core i3 Processor (10th Gen)   \n",
       "1          59990  69999  Powered by 11th Gen Intel Evo Core i5 Processor   \n",
       "2          32990  45990               Intel Core i3 Processor (10th Gen)   \n",
       "\n",
       "                                             Ram  \\\n",
       "0                                  4 GB DDR4 RAM   \n",
       "1  Microsoft Office 2019 Home & Student Included   \n",
       "2                                  8 GB DDR4 RAM   \n",
       "\n",
       "                              Storage  \\\n",
       "0                          256 GB SSD   \n",
       "1  Intel Core i5 Processor (11th Gen)   \n",
       "2                          512 GB SSD   \n",
       "\n",
       "                                            ImageURL  \n",
       "0  https://rukminim1.flixcart.com/image/312/312/x...  \n",
       "1  https://rukminim1.flixcart.com/image/312/312/k...  \n",
       "2  https://rukminim1.flixcart.com/image/312/312/x...  "
      ]
     },
     "execution_count": 10,
     "metadata": {},
     "output_type": "execute_result"
    }
   ],
   "source": [
    "#fillna values\n",
    "df.fillna(0).iloc[:3]"
   ]
  },
  {
   "cell_type": "code",
   "execution_count": 11,
   "id": "377cbe10",
   "metadata": {
    "execution": {
     "iopub.execute_input": "2023-02-02T11:21:10.876936Z",
     "iopub.status.busy": "2023-02-02T11:21:10.876576Z",
     "iopub.status.idle": "2023-02-02T11:21:10.902837Z",
     "shell.execute_reply": "2023-02-02T11:21:10.901965Z"
    },
    "papermill": {
     "duration": 0.038602,
     "end_time": "2023-02-02T11:21:10.904623",
     "exception": false,
     "start_time": "2023-02-02T11:21:10.866021",
     "status": "completed"
    },
    "tags": []
   },
   "outputs": [
    {
     "data": {
      "text/html": [
       "<div>\n",
       "<style scoped>\n",
       "    .dataframe tbody tr th:only-of-type {\n",
       "        vertical-align: middle;\n",
       "    }\n",
       "\n",
       "    .dataframe tbody tr th {\n",
       "        vertical-align: top;\n",
       "    }\n",
       "\n",
       "    .dataframe thead th {\n",
       "        text-align: right;\n",
       "    }\n",
       "</style>\n",
       "<table border=\"1\" class=\"dataframe\">\n",
       "  <thead>\n",
       "    <tr style=\"text-align: right;\">\n",
       "      <th></th>\n",
       "      <th>count</th>\n",
       "      <th>mean</th>\n",
       "      <th>std</th>\n",
       "      <th>min</th>\n",
       "      <th>25%</th>\n",
       "      <th>50%</th>\n",
       "      <th>75%</th>\n",
       "      <th>max</th>\n",
       "    </tr>\n",
       "  </thead>\n",
       "  <tbody>\n",
       "    <tr>\n",
       "      <th>Stars</th>\n",
       "      <td>681.0</td>\n",
       "      <td>3.393392</td>\n",
       "      <td>1.644590</td>\n",
       "      <td>0.0</td>\n",
       "      <td>3.7</td>\n",
       "      <td>4.2</td>\n",
       "      <td>4.3</td>\n",
       "      <td>5.0</td>\n",
       "    </tr>\n",
       "    <tr>\n",
       "      <th>Ratings</th>\n",
       "      <td>681.0</td>\n",
       "      <td>817.650514</td>\n",
       "      <td>1909.163189</td>\n",
       "      <td>0.0</td>\n",
       "      <td>8.0</td>\n",
       "      <td>78.0</td>\n",
       "      <td>505.0</td>\n",
       "      <td>17745.0</td>\n",
       "    </tr>\n",
       "    <tr>\n",
       "      <th>Reviews</th>\n",
       "      <td>681.0</td>\n",
       "      <td>102.396476</td>\n",
       "      <td>242.605686</td>\n",
       "      <td>0.0</td>\n",
       "      <td>0.0</td>\n",
       "      <td>10.0</td>\n",
       "      <td>61.0</td>\n",
       "      <td>2300.0</td>\n",
       "    </tr>\n",
       "    <tr>\n",
       "      <th>Current_Price</th>\n",
       "      <td>681.0</td>\n",
       "      <td>48240.491924</td>\n",
       "      <td>13941.846996</td>\n",
       "      <td>15990.0</td>\n",
       "      <td>37250.0</td>\n",
       "      <td>47990.0</td>\n",
       "      <td>59990.0</td>\n",
       "      <td>102000.0</td>\n",
       "    </tr>\n",
       "    <tr>\n",
       "      <th>MRP</th>\n",
       "      <td>681.0</td>\n",
       "      <td>62572.709251</td>\n",
       "      <td>19504.876499</td>\n",
       "      <td>0.0</td>\n",
       "      <td>50000.0</td>\n",
       "      <td>61590.0</td>\n",
       "      <td>76473.0</td>\n",
       "      <td>136990.0</td>\n",
       "    </tr>\n",
       "  </tbody>\n",
       "</table>\n",
       "</div>"
      ],
      "text/plain": [
       "               count          mean           std      min      25%      50%  \\\n",
       "Stars          681.0      3.393392      1.644590      0.0      3.7      4.2   \n",
       "Ratings        681.0    817.650514   1909.163189      0.0      8.0     78.0   \n",
       "Reviews        681.0    102.396476    242.605686      0.0      0.0     10.0   \n",
       "Current_Price  681.0  48240.491924  13941.846996  15990.0  37250.0  47990.0   \n",
       "MRP            681.0  62572.709251  19504.876499      0.0  50000.0  61590.0   \n",
       "\n",
       "                   75%       max  \n",
       "Stars              4.3       5.0  \n",
       "Ratings          505.0   17745.0  \n",
       "Reviews           61.0    2300.0  \n",
       "Current_Price  59990.0  102000.0  \n",
       "MRP            76473.0  136990.0  "
      ]
     },
     "execution_count": 11,
     "metadata": {},
     "output_type": "execute_result"
    }
   ],
   "source": [
    "#distribution of data\n",
    "df.describe().T"
   ]
  },
  {
   "cell_type": "code",
   "execution_count": 12,
   "id": "c4e2513d",
   "metadata": {
    "execution": {
     "iopub.execute_input": "2023-02-02T11:21:10.926282Z",
     "iopub.status.busy": "2023-02-02T11:21:10.925118Z",
     "iopub.status.idle": "2023-02-02T11:21:11.461411Z",
     "shell.execute_reply": "2023-02-02T11:21:11.460519Z"
    },
    "papermill": {
     "duration": 0.548984,
     "end_time": "2023-02-02T11:21:11.463484",
     "exception": false,
     "start_time": "2023-02-02T11:21:10.914500",
     "status": "completed"
    },
    "tags": []
   },
   "outputs": [
    {
     "data": {
      "text/plain": [
       "<AxesSubplot:>"
      ]
     },
     "execution_count": 12,
     "metadata": {},
     "output_type": "execute_result"
    },
    {
     "data": {
      "image/png": "[encoded data removed]",
      "text/plain": [
       "<Figure size 432x216 with 3 Axes>"
      ]
     },
     "metadata": {
      "needs_background": "light"
     },
     "output_type": "display_data"
    }
   ],
   "source": [
    "#visualize missing numbers in the dataset\n",
    "msno.bar(df,figsize=(6,3),color='magenta')"
   ]
  },
  {
   "cell_type": "code",
   "execution_count": 13,
   "id": "0a696cd2",
   "metadata": {
    "execution": {
     "iopub.execute_input": "2023-02-02T11:21:11.492020Z",
     "iopub.status.busy": "2023-02-02T11:21:11.491611Z",
     "iopub.status.idle": "2023-02-02T11:21:11.504799Z",
     "shell.execute_reply": "2023-02-02T11:21:11.503808Z"
    },
    "papermill": {
     "duration": 0.029707,
     "end_time": "2023-02-02T11:21:11.506805",
     "exception": false,
     "start_time": "2023-02-02T11:21:11.477098",
     "status": "completed"
    },
    "tags": []
   },
   "outputs": [
    {
     "data": {
      "text/plain": [
       "ProductName\n",
       "realme Book(Slim) Intel Evo Core i5 11th Gen    29\n",
       "Lenovo IdeaPad 3 Core i3 10th Gen               29\n",
       "DELL Inspiron Core i5 11th Gen                  16\n",
       "Lenovo Ryzen 5 Hexa Core 5600H                  12\n",
       "DELL Inspiron Core i3 11th Gen                  11\n",
       "                                                ..\n",
       "ASUS Vivobook 15 Touch Core i5 11th Gen          1\n",
       "ASUS Vivobook 15 Touch Core i3 11th Gen          1\n",
       "HP Ryzen 3 Dual Core 3rd Gen                     1\n",
       "HP Ryzen 3 Hexa Core 4th Gen                     1\n",
       "ASUS VivoBook 15 Ryzen 3 Dual Core AMD R3        1\n",
       "Name: ProductName, Length: 342, dtype: int64"
      ]
     },
     "execution_count": 13,
     "metadata": {},
     "output_type": "execute_result"
    }
   ],
   "source": [
    "df['ProductName'].groupby(df['ProductName']).count().sort_values(ascending=False)"
   ]
  },
  {
   "cell_type": "code",
   "execution_count": 14,
   "id": "22621828",
   "metadata": {
    "execution": {
     "iopub.execute_input": "2023-02-02T11:21:11.533507Z",
     "iopub.status.busy": "2023-02-02T11:21:11.532912Z",
     "iopub.status.idle": "2023-02-02T11:21:11.540331Z",
     "shell.execute_reply": "2023-02-02T11:21:11.539636Z"
    },
    "papermill": {
     "duration": 0.022321,
     "end_time": "2023-02-02T11:21:11.542165",
     "exception": false,
     "start_time": "2023-02-02T11:21:11.519844",
     "status": "completed"
    },
    "tags": []
   },
   "outputs": [
    {
     "data": {
      "text/plain": [
       "Ram\n",
       "8 GB DDR4 RAM                                            403\n",
       "4 GB DDR4 RAM                                             97\n",
       "16 GB DDR4 RAM                                            68\n",
       "Microsoft Office 2019 Home & Student Included             29\n",
       "8 GB LPDDR4X RAM                                          26\n",
       "4 GB LPDDR4 RAM                                           11\n",
       "16 GB LPDDR4X RAM                                          8\n",
       "RAM & Storage: 8GB DDR4 & 512GB SSD                        7\n",
       "4 GB LPDDR4X RAM                                           6\n",
       "4 GB DDR3 RAM                                              4\n",
       "8 GB DDR3 RAM                                              3\n",
       "RAM & Storage: 8GB DDR4 & 1TB + 256GB SSD                  3\n",
       "RAM & Storage: 8GB DDR4 & 256GB SSD                        2\n",
       "AMD Ryzen 5 Hexa Core Processor                            2\n",
       "RAM & Storage: 8GB DDR4 (2 DIMM Slots) & 512GB SSD         2\n",
       "Intel Core i7 Processor (7th Gen)                          1\n",
       "Intel Core i5 Processor (11th Gen)                         1\n",
       "NVIDIA Geforce GTX 1050 for Desktop Level Performance      1\n",
       "Preloaded Microsoft Office Home and Student 2016           1\n",
       "8 GB DDR5 RAM                                              1\n",
       "RAM & Storage: 8GB DDR4 & 1TB HDD + 256GB SSD              1\n",
       "64 GB DDR4 RAM                                             1\n",
       "16 GB LPDDR5 RAM                                           1\n",
       "RAM & Storage: 8GB DDR4 (2 DIMM Slots) & 1TB HDD           1\n",
       "RAM & Storage: 8GB DDR4 (2 DIMM Slots) & 256GB SSD         1\n",
       "Name: ProductName, dtype: int64"
      ]
     },
     "execution_count": 14,
     "metadata": {},
     "output_type": "execute_result"
    }
   ],
   "source": [
    "df['ProductName'].groupby(df['Ram']).count().sort_values(ascending=False)"
   ]
  },
  {
   "cell_type": "code",
   "execution_count": 15,
   "id": "6b3cb622",
   "metadata": {
    "execution": {
     "iopub.execute_input": "2023-02-02T11:21:11.565187Z",
     "iopub.status.busy": "2023-02-02T11:21:11.564818Z",
     "iopub.status.idle": "2023-02-02T11:21:11.570724Z",
     "shell.execute_reply": "2023-02-02T11:21:11.569349Z"
    },
    "papermill": {
     "duration": 0.019631,
     "end_time": "2023-02-02T11:21:11.572460",
     "exception": false,
     "start_time": "2023-02-02T11:21:11.552829",
     "status": "completed"
    },
    "tags": []
   },
   "outputs": [
    {
     "data": {
      "text/plain": [
       "Index(['ProductName', 'Stars', 'Ratings', 'Reviews', 'Current_Price', 'MRP',\n",
       "       'Proccessor', 'Ram', 'Storage', 'ImageURL'],\n",
       "      dtype='object')"
      ]
     },
     "execution_count": 15,
     "metadata": {},
     "output_type": "execute_result"
    }
   ],
   "source": [
    "df.keys()"
   ]
  },
  {
   "cell_type": "code",
   "execution_count": 16,
   "id": "cfc75083",
   "metadata": {
    "execution": {
     "iopub.execute_input": "2023-02-02T11:21:11.595702Z",
     "iopub.status.busy": "2023-02-02T11:21:11.595069Z",
     "iopub.status.idle": "2023-02-02T11:21:11.808676Z",
     "shell.execute_reply": "2023-02-02T11:21:11.808034Z"
    },
    "papermill": {
     "duration": 0.227764,
     "end_time": "2023-02-02T11:21:11.810967",
     "exception": false,
     "start_time": "2023-02-02T11:21:11.583203",
     "status": "completed"
    },
    "tags": []
   },
   "outputs": [
    {
     "data": {
      "image/png": "[encoded data removed]",
      "text/plain": [
       "<Figure size 432x360 with 1 Axes>"
      ]
     },
     "metadata": {
      "needs_background": "light"
     },
     "output_type": "display_data"
    }
   ],
   "source": [
    "sns.displot(df, x= 'MRP',bins=[5000,10000,15000,20000,25000,30000,35000,40000,50000,60000,80000], aspect=1.2,color='#fd6c9e')\n",
    "plt.title(\"MRP of LAPTOP\",fontsize = 14)\n",
    "plt.show()"
   ]
  },
  {
   "cell_type": "code",
   "execution_count": 17,
   "id": "185cda54",
   "metadata": {
    "execution": {
     "iopub.execute_input": "2023-02-02T11:21:11.836374Z",
     "iopub.status.busy": "2023-02-02T11:21:11.835591Z",
     "iopub.status.idle": "2023-02-02T11:21:12.050616Z",
     "shell.execute_reply": "2023-02-02T11:21:12.049533Z"
    },
    "papermill": {
     "duration": 0.229576,
     "end_time": "2023-02-02T11:21:12.052565",
     "exception": false,
     "start_time": "2023-02-02T11:21:11.822989",
     "status": "completed"
    },
    "tags": []
   },
   "outputs": [
    {
     "data": {
      "image/png": "[encoded data removed]",
      "text/plain": [
       "<Figure size 432x360 with 1 Axes>"
      ]
     },
     "metadata": {
      "needs_background": "light"
     },
     "output_type": "display_data"
    }
   ],
   "source": [
    "sns.displot(df, x='Current_Price',bins=[5000,10000,15000,20000,25000,30000,35000,40000,50000,60000,80000], aspect=1.2,color='#ff8243')\n",
    "plt.title(\"Current Price of LAPTOP\",fontsize = 14)\n",
    "plt.show()"
   ]
  },
  {
   "cell_type": "markdown",
   "id": "54af4090",
   "metadata": {
    "papermill": {
     "duration": 0.010626,
     "end_time": "2023-02-02T11:21:12.074375",
     "exception": false,
     "start_time": "2023-02-02T11:21:12.063749",
     "status": "completed"
    },
    "tags": []
   },
   "source": [
    "# Find the pr**oduct having highest ratings?**"
   ]
  },
  {
   "cell_type": "code",
   "execution_count": 18,
   "id": "f1151c2c",
   "metadata": {
    "execution": {
     "iopub.execute_input": "2023-02-02T11:21:12.098043Z",
     "iopub.status.busy": "2023-02-02T11:21:12.097593Z",
     "iopub.status.idle": "2023-02-02T11:21:12.112142Z",
     "shell.execute_reply": "2023-02-02T11:21:12.111037Z"
    },
    "papermill": {
     "duration": 0.028885,
     "end_time": "2023-02-02T11:21:12.114317",
     "exception": false,
     "start_time": "2023-02-02T11:21:12.085432",
     "status": "completed"
    },
    "tags": []
   },
   "outputs": [
    {
     "data": {
      "text/html": [
       "<div>\n",
       "<style scoped>\n",
       "    .dataframe tbody tr th:only-of-type {\n",
       "        vertical-align: middle;\n",
       "    }\n",
       "\n",
       "    .dataframe tbody tr th {\n",
       "        vertical-align: top;\n",
       "    }\n",
       "\n",
       "    .dataframe thead th {\n",
       "        text-align: right;\n",
       "    }\n",
       "</style>\n",
       "<table border=\"1\" class=\"dataframe\">\n",
       "  <thead>\n",
       "    <tr style=\"text-align: right;\">\n",
       "      <th></th>\n",
       "      <th>ProductName</th>\n",
       "      <th>Stars</th>\n",
       "      <th>Ratings</th>\n",
       "      <th>Reviews</th>\n",
       "      <th>Current_Price</th>\n",
       "      <th>MRP</th>\n",
       "      <th>Proccessor</th>\n",
       "      <th>Ram</th>\n",
       "      <th>Storage</th>\n",
       "      <th>ImageURL</th>\n",
       "    </tr>\n",
       "  </thead>\n",
       "  <tbody>\n",
       "    <tr>\n",
       "      <th>637</th>\n",
       "      <td>ASUS Celeron Dual Core</td>\n",
       "      <td>3.7</td>\n",
       "      <td>17745</td>\n",
       "      <td>2300</td>\n",
       "      <td>22990</td>\n",
       "      <td>30990</td>\n",
       "      <td>Intel Celeron Dual Core Processor</td>\n",
       "      <td>4 GB DDR4 RAM</td>\n",
       "      <td>1 TB HDD</td>\n",
       "      <td>https://rukminim1.flixcart.com/image/312/312/k...</td>\n",
       "    </tr>\n",
       "  </tbody>\n",
       "</table>\n",
       "</div>"
      ],
      "text/plain": [
       "                ProductName  Stars  Ratings  Reviews  Current_Price    MRP  \\\n",
       "637  ASUS Celeron Dual Core    3.7    17745     2300          22990  30990   \n",
       "\n",
       "                            Proccessor            Ram   Storage  \\\n",
       "637  Intel Celeron Dual Core Processor  4 GB DDR4 RAM  1 TB HDD   \n",
       "\n",
       "                                              ImageURL  \n",
       "637  https://rukminim1.flixcart.com/image/312/312/k...  "
      ]
     },
     "execution_count": 18,
     "metadata": {},
     "output_type": "execute_result"
    }
   ],
   "source": [
    "df[df['Ratings']==max(df['Ratings'])]"
   ]
  },
  {
   "cell_type": "code",
   "execution_count": 19,
   "id": "47fd68f0",
   "metadata": {
    "execution": {
     "iopub.execute_input": "2023-02-02T11:21:12.138172Z",
     "iopub.status.busy": "2023-02-02T11:21:12.137544Z",
     "iopub.status.idle": "2023-02-02T11:21:12.151508Z",
     "shell.execute_reply": "2023-02-02T11:21:12.150496Z"
    },
    "papermill": {
     "duration": 0.027717,
     "end_time": "2023-02-02T11:21:12.153200",
     "exception": false,
     "start_time": "2023-02-02T11:21:12.125483",
     "status": "completed"
    },
    "tags": []
   },
   "outputs": [
    {
     "data": {
      "text/html": [
       "<div>\n",
       "<style scoped>\n",
       "    .dataframe tbody tr th:only-of-type {\n",
       "        vertical-align: middle;\n",
       "    }\n",
       "\n",
       "    .dataframe tbody tr th {\n",
       "        vertical-align: top;\n",
       "    }\n",
       "\n",
       "    .dataframe thead th {\n",
       "        text-align: right;\n",
       "    }\n",
       "</style>\n",
       "<table border=\"1\" class=\"dataframe\">\n",
       "  <thead>\n",
       "    <tr style=\"text-align: right;\">\n",
       "      <th></th>\n",
       "      <th>ProductName</th>\n",
       "      <th>Stars</th>\n",
       "      <th>Ratings</th>\n",
       "      <th>Reviews</th>\n",
       "      <th>Current_Price</th>\n",
       "      <th>MRP</th>\n",
       "      <th>Proccessor</th>\n",
       "      <th>Ram</th>\n",
       "      <th>Storage</th>\n",
       "      <th>ImageURL</th>\n",
       "    </tr>\n",
       "  </thead>\n",
       "  <tbody>\n",
       "    <tr>\n",
       "      <th>637</th>\n",
       "      <td>ASUS Celeron Dual Core</td>\n",
       "      <td>3.7</td>\n",
       "      <td>17745</td>\n",
       "      <td>2300</td>\n",
       "      <td>22990</td>\n",
       "      <td>30990</td>\n",
       "      <td>Intel Celeron Dual Core Processor</td>\n",
       "      <td>4 GB DDR4 RAM</td>\n",
       "      <td>1 TB HDD</td>\n",
       "      <td>https://rukminim1.flixcart.com/image/312/312/k...</td>\n",
       "    </tr>\n",
       "    <tr>\n",
       "      <th>3</th>\n",
       "      <td>HP Pavilion Ryzen 5 Hexa Core AMD R5</td>\n",
       "      <td>4.4</td>\n",
       "      <td>11854</td>\n",
       "      <td>1199</td>\n",
       "      <td>52990</td>\n",
       "      <td>63539</td>\n",
       "      <td>AMD Ryzen 5 Hexa Core Processor</td>\n",
       "      <td>8 GB DDR4 RAM</td>\n",
       "      <td>512 GB SSD</td>\n",
       "      <td>https://rukminim1.flixcart.com/image/312/312/k...</td>\n",
       "    </tr>\n",
       "    <tr>\n",
       "      <th>2</th>\n",
       "      <td>ASUS VivoBook 15 (2022) Core i3 10th Gen</td>\n",
       "      <td>4.3</td>\n",
       "      <td>9970</td>\n",
       "      <td>999</td>\n",
       "      <td>32990</td>\n",
       "      <td>45990</td>\n",
       "      <td>Intel Core i3 Processor (10th Gen)</td>\n",
       "      <td>8 GB DDR4 RAM</td>\n",
       "      <td>512 GB SSD</td>\n",
       "      <td>https://rukminim1.flixcart.com/image/312/312/x...</td>\n",
       "    </tr>\n",
       "    <tr>\n",
       "      <th>226</th>\n",
       "      <td>ASUS VivoBook 15 (2022) Core i3 10th Gen</td>\n",
       "      <td>4.3</td>\n",
       "      <td>9970</td>\n",
       "      <td>999</td>\n",
       "      <td>35990</td>\n",
       "      <td>50990</td>\n",
       "      <td>Intel Core i3 Processor (10th Gen)</td>\n",
       "      <td>8 GB DDR4 RAM</td>\n",
       "      <td>512 GB SSD</td>\n",
       "      <td>https://rukminim1.flixcart.com/image/312/312/k...</td>\n",
       "    </tr>\n",
       "    <tr>\n",
       "      <th>382</th>\n",
       "      <td>realme Book(Slim) Intel Evo Core i5 11th Gen</td>\n",
       "      <td>4.4</td>\n",
       "      <td>7067</td>\n",
       "      <td>949</td>\n",
       "      <td>59990</td>\n",
       "      <td>69999</td>\n",
       "      <td>Powered by 11th Gen Intel Evo Core i5 Processor</td>\n",
       "      <td>Microsoft Office 2019 Home &amp; Student Included</td>\n",
       "      <td>Intel Core i5 Processor (11th Gen)</td>\n",
       "      <td>https://rukminim1.flixcart.com/image/312/312/k...</td>\n",
       "    </tr>\n",
       "  </tbody>\n",
       "</table>\n",
       "</div>"
      ],
      "text/plain": [
       "                                      ProductName  Stars  Ratings  Reviews  \\\n",
       "637                        ASUS Celeron Dual Core    3.7    17745     2300   \n",
       "3            HP Pavilion Ryzen 5 Hexa Core AMD R5    4.4    11854     1199   \n",
       "2        ASUS VivoBook 15 (2022) Core i3 10th Gen    4.3     9970      999   \n",
       "226      ASUS VivoBook 15 (2022) Core i3 10th Gen    4.3     9970      999   \n",
       "382  realme Book(Slim) Intel Evo Core i5 11th Gen    4.4     7067      949   \n",
       "\n",
       "     Current_Price    MRP                                       Proccessor  \\\n",
       "637          22990  30990                Intel Celeron Dual Core Processor   \n",
       "3            52990  63539                  AMD Ryzen 5 Hexa Core Processor   \n",
       "2            32990  45990               Intel Core i3 Processor (10th Gen)   \n",
       "226          35990  50990               Intel Core i3 Processor (10th Gen)   \n",
       "382          59990  69999  Powered by 11th Gen Intel Evo Core i5 Processor   \n",
       "\n",
       "                                               Ram  \\\n",
       "637                                  4 GB DDR4 RAM   \n",
       "3                                    8 GB DDR4 RAM   \n",
       "2                                    8 GB DDR4 RAM   \n",
       "226                                  8 GB DDR4 RAM   \n",
       "382  Microsoft Office 2019 Home & Student Included   \n",
       "\n",
       "                                Storage  \\\n",
       "637                            1 TB HDD   \n",
       "3                            512 GB SSD   \n",
       "2                            512 GB SSD   \n",
       "226                          512 GB SSD   \n",
       "382  Intel Core i5 Processor (11th Gen)   \n",
       "\n",
       "                                              ImageURL  \n",
       "637  https://rukminim1.flixcart.com/image/312/312/k...  \n",
       "3    https://rukminim1.flixcart.com/image/312/312/k...  \n",
       "2    https://rukminim1.flixcart.com/image/312/312/x...  \n",
       "226  https://rukminim1.flixcart.com/image/312/312/k...  \n",
       "382  https://rukminim1.flixcart.com/image/312/312/k...  "
      ]
     },
     "execution_count": 19,
     "metadata": {},
     "output_type": "execute_result"
    }
   ],
   "source": [
    "df.sort_values(by='Ratings',ascending = False).head()"
   ]
  },
  {
   "cell_type": "code",
   "execution_count": 20,
   "id": "1216c7a6",
   "metadata": {
    "execution": {
     "iopub.execute_input": "2023-02-02T11:21:12.178115Z",
     "iopub.status.busy": "2023-02-02T11:21:12.177715Z",
     "iopub.status.idle": "2023-02-02T11:21:12.183027Z",
     "shell.execute_reply": "2023-02-02T11:21:12.182148Z"
    },
    "papermill": {
     "duration": 0.019818,
     "end_time": "2023-02-02T11:21:12.184811",
     "exception": false,
     "start_time": "2023-02-02T11:21:12.164993",
     "status": "completed"
    },
    "tags": []
   },
   "outputs": [],
   "source": [
    "top5 = df.sort_values(by='Ratings',ascending = False).head()"
   ]
  },
  {
   "cell_type": "code",
   "execution_count": 21,
   "id": "e7d8261e",
   "metadata": {
    "execution": {
     "iopub.execute_input": "2023-02-02T11:21:12.208304Z",
     "iopub.status.busy": "2023-02-02T11:21:12.207911Z",
     "iopub.status.idle": "2023-02-02T11:21:12.388173Z",
     "shell.execute_reply": "2023-02-02T11:21:12.386873Z"
    },
    "papermill": {
     "duration": 0.194564,
     "end_time": "2023-02-02T11:21:12.390593",
     "exception": false,
     "start_time": "2023-02-02T11:21:12.196029",
     "status": "completed"
    },
    "tags": []
   },
   "outputs": [
    {
     "data": {
      "image/png": "[encoded data removed]",
      "text/plain": [
       "<Figure size 1080x504 with 1 Axes>"
      ]
     },
     "metadata": {
      "needs_background": "light"
     },
     "output_type": "display_data"
    }
   ],
   "source": [
    "plt.figure(figsize=(15,7))\n",
    "plt.bar(x=top5['ProductName'],height=top5['Ratings'])\n",
    "plt.title('Highest Ratings Laptops',fontsize=15)\n",
    "plt.xlabel('Laptop Name',fontsize=15)\n",
    "plt.ylabel('Total Ratings',fontsize=15)\n",
    "plt.xticks(rotation = 270)\n",
    "#plt.savefig('My Chart.jpg')\n",
    "plt.show()\n"
   ]
  },
  {
   "cell_type": "markdown",
   "id": "073f051d",
   "metadata": {
    "papermill": {
     "duration": 0.011264,
     "end_time": "2023-02-02T11:21:12.413612",
     "exception": false,
     "start_time": "2023-02-02T11:21:12.402348",
     "status": "completed"
    },
    "tags": []
   },
   "source": [
    "# **Most Affordable Laptops ?**"
   ]
  },
  {
   "cell_type": "code",
   "execution_count": 22,
   "id": "d171d937",
   "metadata": {
    "execution": {
     "iopub.execute_input": "2023-02-02T11:21:12.438925Z",
     "iopub.status.busy": "2023-02-02T11:21:12.437766Z",
     "iopub.status.idle": "2023-02-02T11:21:12.443721Z",
     "shell.execute_reply": "2023-02-02T11:21:12.442746Z"
    },
    "papermill": {
     "duration": 0.020743,
     "end_time": "2023-02-02T11:21:12.445867",
     "exception": false,
     "start_time": "2023-02-02T11:21:12.425124",
     "status": "completed"
    },
    "tags": []
   },
   "outputs": [],
   "source": [
    "top5 = df.sort_values(by='Current_Price',ascending = True).head()"
   ]
  },
  {
   "cell_type": "code",
   "execution_count": 23,
   "id": "d5818e89",
   "metadata": {
    "execution": {
     "iopub.execute_input": "2023-02-02T11:21:12.470615Z",
     "iopub.status.busy": "2023-02-02T11:21:12.470269Z",
     "iopub.status.idle": "2023-02-02T11:21:12.484536Z",
     "shell.execute_reply": "2023-02-02T11:21:12.483295Z"
    },
    "papermill": {
     "duration": 0.029423,
     "end_time": "2023-02-02T11:21:12.486936",
     "exception": false,
     "start_time": "2023-02-02T11:21:12.457513",
     "status": "completed"
    },
    "tags": []
   },
   "outputs": [
    {
     "data": {
      "text/html": [
       "<div>\n",
       "<style scoped>\n",
       "    .dataframe tbody tr th:only-of-type {\n",
       "        vertical-align: middle;\n",
       "    }\n",
       "\n",
       "    .dataframe tbody tr th {\n",
       "        vertical-align: top;\n",
       "    }\n",
       "\n",
       "    .dataframe thead th {\n",
       "        text-align: right;\n",
       "    }\n",
       "</style>\n",
       "<table border=\"1\" class=\"dataframe\">\n",
       "  <thead>\n",
       "    <tr style=\"text-align: right;\">\n",
       "      <th></th>\n",
       "      <th>ProductName</th>\n",
       "      <th>Stars</th>\n",
       "      <th>Ratings</th>\n",
       "      <th>Reviews</th>\n",
       "      <th>Current_Price</th>\n",
       "      <th>MRP</th>\n",
       "      <th>Proccessor</th>\n",
       "      <th>Ram</th>\n",
       "      <th>Storage</th>\n",
       "      <th>ImageURL</th>\n",
       "    </tr>\n",
       "  </thead>\n",
       "  <tbody>\n",
       "    <tr>\n",
       "      <th>109</th>\n",
       "      <td>ASUS Chromebook Flip Touch Celeron Dual Core</td>\n",
       "      <td>4.0</td>\n",
       "      <td>1741</td>\n",
       "      <td>274</td>\n",
       "      <td>15990</td>\n",
       "      <td>31990</td>\n",
       "      <td>Intel Celeron Dual Core Processor</td>\n",
       "      <td>4 GB LPDDR4 RAM</td>\n",
       "      <td>29.46 cm (11.6 inch) Touchscreen Display</td>\n",
       "      <td>https://rukminim1.flixcart.com/image/312/312/x...</td>\n",
       "    </tr>\n",
       "    <tr>\n",
       "      <th>269</th>\n",
       "      <td>Avita SATUS S111 Celeron Dual Core</td>\n",
       "      <td>3.9</td>\n",
       "      <td>646</td>\n",
       "      <td>89</td>\n",
       "      <td>16990</td>\n",
       "      <td>29990</td>\n",
       "      <td>Intel Celeron Dual Core Processor</td>\n",
       "      <td>4 GB DDR4 RAM</td>\n",
       "      <td>128 GB SSD</td>\n",
       "      <td>https://rukminim1.flixcart.com/image/312/312/l...</td>\n",
       "    </tr>\n",
       "    <tr>\n",
       "      <th>589</th>\n",
       "      <td>Avita PURA APU Dual Core A6</td>\n",
       "      <td>3.7</td>\n",
       "      <td>1597</td>\n",
       "      <td>228</td>\n",
       "      <td>17990</td>\n",
       "      <td>27990</td>\n",
       "      <td>AMD APU Dual Core A6 Processor</td>\n",
       "      <td>4 GB DDR4 RAM</td>\n",
       "      <td>128 GB SSD</td>\n",
       "      <td>https://rukminim1.flixcart.com/image/312/312/k...</td>\n",
       "    </tr>\n",
       "    <tr>\n",
       "      <th>643</th>\n",
       "      <td>Avita PURA APU Dual Core A6</td>\n",
       "      <td>3.7</td>\n",
       "      <td>1597</td>\n",
       "      <td>228</td>\n",
       "      <td>18490</td>\n",
       "      <td>27990</td>\n",
       "      <td>AMD APU Dual Core A6 Processor</td>\n",
       "      <td>4 GB DDR4 RAM</td>\n",
       "      <td>128 GB SSD</td>\n",
       "      <td>https://rukminim1.flixcart.com/image/312/312/k...</td>\n",
       "    </tr>\n",
       "    <tr>\n",
       "      <th>496</th>\n",
       "      <td>Lenovo Athlon Dual Core 3050U</td>\n",
       "      <td>0.0</td>\n",
       "      <td>0</td>\n",
       "      <td>0</td>\n",
       "      <td>18990</td>\n",
       "      <td>36000</td>\n",
       "      <td>AMD Athlon Dual Core Processor</td>\n",
       "      <td>4 GB DDR4 RAM</td>\n",
       "      <td>1 TB HDD</td>\n",
       "      <td>https://rukminim1.flixcart.com/image/312/312/x...</td>\n",
       "    </tr>\n",
       "  </tbody>\n",
       "</table>\n",
       "</div>"
      ],
      "text/plain": [
       "                                      ProductName  Stars  Ratings  Reviews  \\\n",
       "109  ASUS Chromebook Flip Touch Celeron Dual Core    4.0     1741      274   \n",
       "269            Avita SATUS S111 Celeron Dual Core    3.9      646       89   \n",
       "589                   Avita PURA APU Dual Core A6    3.7     1597      228   \n",
       "643                   Avita PURA APU Dual Core A6    3.7     1597      228   \n",
       "496                 Lenovo Athlon Dual Core 3050U    0.0        0        0   \n",
       "\n",
       "     Current_Price    MRP                         Proccessor              Ram  \\\n",
       "109          15990  31990  Intel Celeron Dual Core Processor  4 GB LPDDR4 RAM   \n",
       "269          16990  29990  Intel Celeron Dual Core Processor    4 GB DDR4 RAM   \n",
       "589          17990  27990     AMD APU Dual Core A6 Processor    4 GB DDR4 RAM   \n",
       "643          18490  27990     AMD APU Dual Core A6 Processor    4 GB DDR4 RAM   \n",
       "496          18990  36000     AMD Athlon Dual Core Processor    4 GB DDR4 RAM   \n",
       "\n",
       "                                      Storage  \\\n",
       "109  29.46 cm (11.6 inch) Touchscreen Display   \n",
       "269                                128 GB SSD   \n",
       "589                                128 GB SSD   \n",
       "643                                128 GB SSD   \n",
       "496                                  1 TB HDD   \n",
       "\n",
       "                                              ImageURL  \n",
       "109  https://rukminim1.flixcart.com/image/312/312/x...  \n",
       "269  https://rukminim1.flixcart.com/image/312/312/l...  \n",
       "589  https://rukminim1.flixcart.com/image/312/312/k...  \n",
       "643  https://rukminim1.flixcart.com/image/312/312/k...  \n",
       "496  https://rukminim1.flixcart.com/image/312/312/x...  "
      ]
     },
     "execution_count": 23,
     "metadata": {},
     "output_type": "execute_result"
    }
   ],
   "source": [
    "top5"
   ]
  },
  {
   "cell_type": "code",
   "execution_count": 24,
   "id": "d765e731",
   "metadata": {
    "execution": {
     "iopub.execute_input": "2023-02-02T11:21:12.512364Z",
     "iopub.status.busy": "2023-02-02T11:21:12.512042Z",
     "iopub.status.idle": "2023-02-02T11:21:12.689032Z",
     "shell.execute_reply": "2023-02-02T11:21:12.687999Z"
    },
    "papermill": {
     "duration": 0.191976,
     "end_time": "2023-02-02T11:21:12.691108",
     "exception": false,
     "start_time": "2023-02-02T11:21:12.499132",
     "status": "completed"
    },
    "tags": []
   },
   "outputs": [
    {
     "data": {
      "image/png": "[encoded data removed]",
      "text/plain": [
       "<Figure size 1080x504 with 1 Axes>"
      ]
     },
     "metadata": {
      "needs_background": "light"
     },
     "output_type": "display_data"
    }
   ],
   "source": [
    "plt.figure(figsize=(15,7))\n",
    "plt.bar(x=top5['ProductName'],height=top5['Current_Price'])\n",
    "plt.title('Lowest Priced Laptops',fontsize=15)\n",
    "plt.xlabel('Laptop Name',fontsize=15)\n",
    "plt.ylabel('Current Price',fontsize=15)\n",
    "plt.xticks(rotation = 270)\n",
    "#plt.savefig('Lowset Price Laptop.jpg')\n",
    "plt.show()\n"
   ]
  },
  {
   "cell_type": "markdown",
   "id": "90ffe5bb",
   "metadata": {
    "papermill": {
     "duration": 0.01176,
     "end_time": "2023-02-02T11:21:12.715196",
     "exception": false,
     "start_time": "2023-02-02T11:21:12.703436",
     "status": "completed"
    },
    "tags": []
   },
   "source": [
    "# **Top 10 Most Affordable Laptops**"
   ]
  },
  {
   "cell_type": "code",
   "execution_count": 25,
   "id": "de9a0f26",
   "metadata": {
    "execution": {
     "iopub.execute_input": "2023-02-02T11:21:12.741182Z",
     "iopub.status.busy": "2023-02-02T11:21:12.740810Z",
     "iopub.status.idle": "2023-02-02T11:21:12.745209Z",
     "shell.execute_reply": "2023-02-02T11:21:12.744470Z"
    },
    "papermill": {
     "duration": 0.019799,
     "end_time": "2023-02-02T11:21:12.747030",
     "exception": false,
     "start_time": "2023-02-02T11:21:12.727231",
     "status": "completed"
    },
    "tags": []
   },
   "outputs": [],
   "source": [
    "top10 = df.sort_values(by='Current_Price',ascending = True).head(10)"
   ]
  },
  {
   "cell_type": "code",
   "execution_count": 26,
   "id": "072e0580",
   "metadata": {
    "execution": {
     "iopub.execute_input": "2023-02-02T11:21:12.773429Z",
     "iopub.status.busy": "2023-02-02T11:21:12.773066Z",
     "iopub.status.idle": "2023-02-02T11:21:12.787322Z",
     "shell.execute_reply": "2023-02-02T11:21:12.786122Z"
    },
    "papermill": {
     "duration": 0.029976,
     "end_time": "2023-02-02T11:21:12.789411",
     "exception": false,
     "start_time": "2023-02-02T11:21:12.759435",
     "status": "completed"
    },
    "tags": []
   },
   "outputs": [
    {
     "data": {
      "text/html": [
       "<div>\n",
       "<style scoped>\n",
       "    .dataframe tbody tr th:only-of-type {\n",
       "        vertical-align: middle;\n",
       "    }\n",
       "\n",
       "    .dataframe tbody tr th {\n",
       "        vertical-align: top;\n",
       "    }\n",
       "\n",
       "    .dataframe thead th {\n",
       "        text-align: right;\n",
       "    }\n",
       "</style>\n",
       "<table border=\"1\" class=\"dataframe\">\n",
       "  <thead>\n",
       "    <tr style=\"text-align: right;\">\n",
       "      <th></th>\n",
       "      <th>ProductName</th>\n",
       "      <th>Stars</th>\n",
       "      <th>Ratings</th>\n",
       "      <th>Reviews</th>\n",
       "      <th>Current_Price</th>\n",
       "      <th>MRP</th>\n",
       "      <th>Proccessor</th>\n",
       "      <th>Ram</th>\n",
       "      <th>Storage</th>\n",
       "      <th>ImageURL</th>\n",
       "    </tr>\n",
       "  </thead>\n",
       "  <tbody>\n",
       "    <tr>\n",
       "      <th>109</th>\n",
       "      <td>ASUS Chromebook Flip Touch Celeron Dual Core</td>\n",
       "      <td>4.0</td>\n",
       "      <td>1741</td>\n",
       "      <td>274</td>\n",
       "      <td>15990</td>\n",
       "      <td>31990</td>\n",
       "      <td>Intel Celeron Dual Core Processor</td>\n",
       "      <td>4 GB LPDDR4 RAM</td>\n",
       "      <td>29.46 cm (11.6 inch) Touchscreen Display</td>\n",
       "      <td>https://rukminim1.flixcart.com/image/312/312/x...</td>\n",
       "    </tr>\n",
       "    <tr>\n",
       "      <th>269</th>\n",
       "      <td>Avita SATUS S111 Celeron Dual Core</td>\n",
       "      <td>3.9</td>\n",
       "      <td>646</td>\n",
       "      <td>89</td>\n",
       "      <td>16990</td>\n",
       "      <td>29990</td>\n",
       "      <td>Intel Celeron Dual Core Processor</td>\n",
       "      <td>4 GB DDR4 RAM</td>\n",
       "      <td>128 GB SSD</td>\n",
       "      <td>https://rukminim1.flixcart.com/image/312/312/l...</td>\n",
       "    </tr>\n",
       "    <tr>\n",
       "      <th>589</th>\n",
       "      <td>Avita PURA APU Dual Core A6</td>\n",
       "      <td>3.7</td>\n",
       "      <td>1597</td>\n",
       "      <td>228</td>\n",
       "      <td>17990</td>\n",
       "      <td>27990</td>\n",
       "      <td>AMD APU Dual Core A6 Processor</td>\n",
       "      <td>4 GB DDR4 RAM</td>\n",
       "      <td>128 GB SSD</td>\n",
       "      <td>https://rukminim1.flixcart.com/image/312/312/k...</td>\n",
       "    </tr>\n",
       "    <tr>\n",
       "      <th>643</th>\n",
       "      <td>Avita PURA APU Dual Core A6</td>\n",
       "      <td>3.7</td>\n",
       "      <td>1597</td>\n",
       "      <td>228</td>\n",
       "      <td>18490</td>\n",
       "      <td>27990</td>\n",
       "      <td>AMD APU Dual Core A6 Processor</td>\n",
       "      <td>4 GB DDR4 RAM</td>\n",
       "      <td>128 GB SSD</td>\n",
       "      <td>https://rukminim1.flixcart.com/image/312/312/k...</td>\n",
       "    </tr>\n",
       "    <tr>\n",
       "      <th>496</th>\n",
       "      <td>Lenovo Athlon Dual Core 3050U</td>\n",
       "      <td>0.0</td>\n",
       "      <td>0</td>\n",
       "      <td>0</td>\n",
       "      <td>18990</td>\n",
       "      <td>36000</td>\n",
       "      <td>AMD Athlon Dual Core Processor</td>\n",
       "      <td>4 GB DDR4 RAM</td>\n",
       "      <td>1 TB HDD</td>\n",
       "      <td>https://rukminim1.flixcart.com/image/312/312/x...</td>\n",
       "    </tr>\n",
       "    <tr>\n",
       "      <th>384</th>\n",
       "      <td>Lenovo Athlon Dual Core 3050U</td>\n",
       "      <td>4.0</td>\n",
       "      <td>8</td>\n",
       "      <td>2</td>\n",
       "      <td>18990</td>\n",
       "      <td>29999</td>\n",
       "      <td>AMD Athlon Dual Core Processor</td>\n",
       "      <td>4 GB DDR4 RAM</td>\n",
       "      <td>256 GB SSD</td>\n",
       "      <td>https://rukminim1.flixcart.com/image/312/312/x...</td>\n",
       "    </tr>\n",
       "    <tr>\n",
       "      <th>477</th>\n",
       "      <td>ASUS Chromebook Celeron Dual Core</td>\n",
       "      <td>3.6</td>\n",
       "      <td>385</td>\n",
       "      <td>50</td>\n",
       "      <td>18990</td>\n",
       "      <td>22990</td>\n",
       "      <td>Intel Celeron Dual Core Processor</td>\n",
       "      <td>4 GB LPDDR4 RAM</td>\n",
       "      <td>29.46 cm (11.6 Inch) Display</td>\n",
       "      <td>https://rukminim1.flixcart.com/image/312/312/k...</td>\n",
       "    </tr>\n",
       "    <tr>\n",
       "      <th>532</th>\n",
       "      <td>AXL Celeron Dual Core</td>\n",
       "      <td>0.0</td>\n",
       "      <td>0</td>\n",
       "      <td>0</td>\n",
       "      <td>18990</td>\n",
       "      <td>31990</td>\n",
       "      <td>Intel Celeron Dual Core Processor</td>\n",
       "      <td>4 GB DDR4 RAM</td>\n",
       "      <td>128 GB SSD</td>\n",
       "      <td>https://rukminim1.flixcart.com/image/312/312/x...</td>\n",
       "    </tr>\n",
       "    <tr>\n",
       "      <th>510</th>\n",
       "      <td>Lenovo Athlon Dual Core 3050U</td>\n",
       "      <td>0.0</td>\n",
       "      <td>0</td>\n",
       "      <td>0</td>\n",
       "      <td>18990</td>\n",
       "      <td>29999</td>\n",
       "      <td>AMD Athlon Dual Core Processor</td>\n",
       "      <td>4 GB DDR4 RAM</td>\n",
       "      <td>1 TB HDD</td>\n",
       "      <td>https://rukminim1.flixcart.com/image/312/312/x...</td>\n",
       "    </tr>\n",
       "    <tr>\n",
       "      <th>591</th>\n",
       "      <td>Lenovo IdeaPad 3 Chromebook Celeron Dual Core</td>\n",
       "      <td>3.5</td>\n",
       "      <td>1369</td>\n",
       "      <td>162</td>\n",
       "      <td>19990</td>\n",
       "      <td>24840</td>\n",
       "      <td>Intel Celeron Dual Core Processor</td>\n",
       "      <td>4 GB LPDDR4 RAM</td>\n",
       "      <td>29.46 cm (11.6 Inch) Display</td>\n",
       "      <td>https://rukminim1.flixcart.com/image/312/312/k...</td>\n",
       "    </tr>\n",
       "  </tbody>\n",
       "</table>\n",
       "</div>"
      ],
      "text/plain": [
       "                                       ProductName  Stars  Ratings  Reviews  \\\n",
       "109   ASUS Chromebook Flip Touch Celeron Dual Core    4.0     1741      274   \n",
       "269             Avita SATUS S111 Celeron Dual Core    3.9      646       89   \n",
       "589                    Avita PURA APU Dual Core A6    3.7     1597      228   \n",
       "643                    Avita PURA APU Dual Core A6    3.7     1597      228   \n",
       "496                  Lenovo Athlon Dual Core 3050U    0.0        0        0   \n",
       "384                  Lenovo Athlon Dual Core 3050U    4.0        8        2   \n",
       "477              ASUS Chromebook Celeron Dual Core    3.6      385       50   \n",
       "532                          AXL Celeron Dual Core    0.0        0        0   \n",
       "510                  Lenovo Athlon Dual Core 3050U    0.0        0        0   \n",
       "591  Lenovo IdeaPad 3 Chromebook Celeron Dual Core    3.5     1369      162   \n",
       "\n",
       "     Current_Price    MRP                         Proccessor              Ram  \\\n",
       "109          15990  31990  Intel Celeron Dual Core Processor  4 GB LPDDR4 RAM   \n",
       "269          16990  29990  Intel Celeron Dual Core Processor    4 GB DDR4 RAM   \n",
       "589          17990  27990     AMD APU Dual Core A6 Processor    4 GB DDR4 RAM   \n",
       "643          18490  27990     AMD APU Dual Core A6 Processor    4 GB DDR4 RAM   \n",
       "496          18990  36000     AMD Athlon Dual Core Processor    4 GB DDR4 RAM   \n",
       "384          18990  29999     AMD Athlon Dual Core Processor    4 GB DDR4 RAM   \n",
       "477          18990  22990  Intel Celeron Dual Core Processor  4 GB LPDDR4 RAM   \n",
       "532          18990  31990  Intel Celeron Dual Core Processor    4 GB DDR4 RAM   \n",
       "510          18990  29999     AMD Athlon Dual Core Processor    4 GB DDR4 RAM   \n",
       "591          19990  24840  Intel Celeron Dual Core Processor  4 GB LPDDR4 RAM   \n",
       "\n",
       "                                      Storage  \\\n",
       "109  29.46 cm (11.6 inch) Touchscreen Display   \n",
       "269                                128 GB SSD   \n",
       "589                                128 GB SSD   \n",
       "643                                128 GB SSD   \n",
       "496                                  1 TB HDD   \n",
       "384                                256 GB SSD   \n",
       "477              29.46 cm (11.6 Inch) Display   \n",
       "532                                128 GB SSD   \n",
       "510                                  1 TB HDD   \n",
       "591              29.46 cm (11.6 Inch) Display   \n",
       "\n",
       "                                              ImageURL  \n",
       "109  https://rukminim1.flixcart.com/image/312/312/x...  \n",
       "269  https://rukminim1.flixcart.com/image/312/312/l...  \n",
       "589  https://rukminim1.flixcart.com/image/312/312/k...  \n",
       "643  https://rukminim1.flixcart.com/image/312/312/k...  \n",
       "496  https://rukminim1.flixcart.com/image/312/312/x...  \n",
       "384  https://rukminim1.flixcart.com/image/312/312/x...  \n",
       "477  https://rukminim1.flixcart.com/image/312/312/k...  \n",
       "532  https://rukminim1.flixcart.com/image/312/312/x...  \n",
       "510  https://rukminim1.flixcart.com/image/312/312/x...  \n",
       "591  https://rukminim1.flixcart.com/image/312/312/k...  "
      ]
     },
     "execution_count": 26,
     "metadata": {},
     "output_type": "execute_result"
    }
   ],
   "source": [
    "top10"
   ]
  },
  {
   "cell_type": "code",
   "execution_count": 27,
   "id": "e7deeee7",
   "metadata": {
    "execution": {
     "iopub.execute_input": "2023-02-02T11:21:12.817489Z",
     "iopub.status.busy": "2023-02-02T11:21:12.816721Z",
     "iopub.status.idle": "2023-02-02T11:21:13.012833Z",
     "shell.execute_reply": "2023-02-02T11:21:13.012008Z"
    },
    "papermill": {
     "duration": 0.212582,
     "end_time": "2023-02-02T11:21:13.014700",
     "exception": false,
     "start_time": "2023-02-02T11:21:12.802118",
     "status": "completed"
    },
    "tags": []
   },
   "outputs": [
    {
     "data": {
      "image/png": "[encoded data removed]",
      "text/plain": [
       "<Figure size 1080x504 with 1 Axes>"
      ]
     },
     "metadata": {
      "needs_background": "light"
     },
     "output_type": "display_data"
    }
   ],
   "source": [
    "plt.figure(figsize=(15,7))\n",
    "plt.bar(x=top10['ProductName'],height=top10['Current_Price'])\n",
    "plt.title('Lowest Priced Laptops',fontsize=15)\n",
    "plt.xlabel('Laptop Name',fontsize=15)\n",
    "plt.ylabel('Current Price',fontsize=15)\n",
    "plt.xticks(rotation = 270)\n",
    "#plt.savefig('Lowset Price Laptop.jpg')\n",
    "plt.show()"
   ]
  },
  {
   "cell_type": "markdown",
   "id": "bdff5879",
   "metadata": {
    "papermill": {
     "duration": 0.012939,
     "end_time": "2023-02-02T11:21:13.040990",
     "exception": false,
     "start_time": "2023-02-02T11:21:13.028051",
     "status": "completed"
    },
    "tags": []
   },
   "source": [
    "# **Mid-Range Laptops**"
   ]
  },
  {
   "cell_type": "code",
   "execution_count": 28,
   "id": "2b115670",
   "metadata": {
    "execution": {
     "iopub.execute_input": "2023-02-02T11:21:13.068939Z",
     "iopub.status.busy": "2023-02-02T11:21:13.068379Z",
     "iopub.status.idle": "2023-02-02T11:21:13.073794Z",
     "shell.execute_reply": "2023-02-02T11:21:13.073183Z"
    },
    "papermill": {
     "duration": 0.021658,
     "end_time": "2023-02-02T11:21:13.075700",
     "exception": false,
     "start_time": "2023-02-02T11:21:13.054042",
     "status": "completed"
    },
    "tags": []
   },
   "outputs": [],
   "source": [
    "midrange_laptops = df[(df['Current_Price']<45000)& (df['Current_Price']>35000)]"
   ]
  },
  {
   "cell_type": "code",
   "execution_count": 29,
   "id": "76c5430d",
   "metadata": {
    "execution": {
     "iopub.execute_input": "2023-02-02T11:21:13.103172Z",
     "iopub.status.busy": "2023-02-02T11:21:13.102806Z",
     "iopub.status.idle": "2023-02-02T11:21:13.119353Z",
     "shell.execute_reply": "2023-02-02T11:21:13.118467Z"
    },
    "papermill": {
     "duration": 0.03242,
     "end_time": "2023-02-02T11:21:13.121196",
     "exception": false,
     "start_time": "2023-02-02T11:21:13.088776",
     "status": "completed"
    },
    "tags": []
   },
   "outputs": [
    {
     "data": {
      "text/html": [
       "<div>\n",
       "<style scoped>\n",
       "    .dataframe tbody tr th:only-of-type {\n",
       "        vertical-align: middle;\n",
       "    }\n",
       "\n",
       "    .dataframe tbody tr th {\n",
       "        vertical-align: top;\n",
       "    }\n",
       "\n",
       "    .dataframe thead th {\n",
       "        text-align: right;\n",
       "    }\n",
       "</style>\n",
       "<table border=\"1\" class=\"dataframe\">\n",
       "  <thead>\n",
       "    <tr style=\"text-align: right;\">\n",
       "      <th></th>\n",
       "      <th>ProductName</th>\n",
       "      <th>Stars</th>\n",
       "      <th>Ratings</th>\n",
       "      <th>Reviews</th>\n",
       "      <th>Current_Price</th>\n",
       "      <th>MRP</th>\n",
       "      <th>Proccessor</th>\n",
       "      <th>Ram</th>\n",
       "      <th>Storage</th>\n",
       "      <th>ImageURL</th>\n",
       "    </tr>\n",
       "  </thead>\n",
       "  <tbody>\n",
       "    <tr>\n",
       "      <th>7</th>\n",
       "      <td>HP 14s Intel Core i3 11th Gen</td>\n",
       "      <td>4.2</td>\n",
       "      <td>1556</td>\n",
       "      <td>137</td>\n",
       "      <td>35990</td>\n",
       "      <td>47206</td>\n",
       "      <td>Intel Core i3 Processor (11th Gen)</td>\n",
       "      <td>8 GB DDR4 RAM</td>\n",
       "      <td>256 GB SSD</td>\n",
       "      <td>https://rukminim1.flixcart.com/image/312/312/l...</td>\n",
       "    </tr>\n",
       "    <tr>\n",
       "      <th>9</th>\n",
       "      <td>RedmiBook Pro Core i5 11th Gen</td>\n",
       "      <td>4.1</td>\n",
       "      <td>3641</td>\n",
       "      <td>430</td>\n",
       "      <td>39990</td>\n",
       "      <td>59999</td>\n",
       "      <td>Intel Core i5 Processor (11th Gen)</td>\n",
       "      <td>8 GB DDR4 RAM</td>\n",
       "      <td>512 GB SSD</td>\n",
       "      <td>https://rukminim1.flixcart.com/image/312/312/k...</td>\n",
       "    </tr>\n",
       "    <tr>\n",
       "      <th>15</th>\n",
       "      <td>DELL Vostro Core i3 11th Gen</td>\n",
       "      <td>4.2</td>\n",
       "      <td>35</td>\n",
       "      <td>1</td>\n",
       "      <td>42290</td>\n",
       "      <td>58489</td>\n",
       "      <td>Processor: Intel i3-1115G4 (Base- 1.7 GHz &amp; Tu...</td>\n",
       "      <td>RAM &amp; Storage: 8GB DDR4 &amp; 1TB HDD + 256GB SSD</td>\n",
       "      <td>Display: 15.6\" FHD WVA AG Narrow Border</td>\n",
       "      <td>https://rukminim1.flixcart.com/image/312/312/x...</td>\n",
       "    </tr>\n",
       "    <tr>\n",
       "      <th>16</th>\n",
       "      <td>HP 15s Intel Core i3 11th Gen</td>\n",
       "      <td>4.2</td>\n",
       "      <td>328</td>\n",
       "      <td>35</td>\n",
       "      <td>40990</td>\n",
       "      <td>50585</td>\n",
       "      <td>Intel Core i3 Processor (11th Gen)</td>\n",
       "      <td>8 GB DDR4 RAM</td>\n",
       "      <td>512 GB SSD</td>\n",
       "      <td>https://rukminim1.flixcart.com/image/312/312/l...</td>\n",
       "    </tr>\n",
       "    <tr>\n",
       "      <th>17</th>\n",
       "      <td>ASUS Vivobook 15 Touch Core i3 11th Gen</td>\n",
       "      <td>4.3</td>\n",
       "      <td>317</td>\n",
       "      <td>42</td>\n",
       "      <td>41990</td>\n",
       "      <td>60990</td>\n",
       "      <td>Intel Core i3 Processor (11th Gen)</td>\n",
       "      <td>8 GB DDR4 RAM</td>\n",
       "      <td>512 GB SSD</td>\n",
       "      <td>https://rukminim1.flixcart.com/image/312/312/l...</td>\n",
       "    </tr>\n",
       "    <tr>\n",
       "      <th>...</th>\n",
       "      <td>...</td>\n",
       "      <td>...</td>\n",
       "      <td>...</td>\n",
       "      <td>...</td>\n",
       "      <td>...</td>\n",
       "      <td>...</td>\n",
       "      <td>...</td>\n",
       "      <td>...</td>\n",
       "      <td>...</td>\n",
       "      <td>...</td>\n",
       "    </tr>\n",
       "    <tr>\n",
       "      <th>656</th>\n",
       "      <td>DELL Ryzen 3 Dual Core 3250U</td>\n",
       "      <td>3.5</td>\n",
       "      <td>17</td>\n",
       "      <td>3</td>\n",
       "      <td>39990</td>\n",
       "      <td>53640</td>\n",
       "      <td>AMD Ryzen 3 Dual Core Processor</td>\n",
       "      <td>8 GB DDR4 RAM</td>\n",
       "      <td>256 GB SSD</td>\n",
       "      <td>https://rukminim1.flixcart.com/image/312/312/k...</td>\n",
       "    </tr>\n",
       "    <tr>\n",
       "      <th>657</th>\n",
       "      <td>DELL Core i3 10th Gen</td>\n",
       "      <td>3.3</td>\n",
       "      <td>122</td>\n",
       "      <td>20</td>\n",
       "      <td>41990</td>\n",
       "      <td>54992</td>\n",
       "      <td>Intel Core i3 Processor (10th Gen)</td>\n",
       "      <td>8 GB DDR4 RAM</td>\n",
       "      <td>1 TB HDD</td>\n",
       "      <td>https://rukminim1.flixcart.com/image/312/312/k...</td>\n",
       "    </tr>\n",
       "    <tr>\n",
       "      <th>659</th>\n",
       "      <td>DELL Ryzen 3 Dual Core 3250U</td>\n",
       "      <td>3.5</td>\n",
       "      <td>17</td>\n",
       "      <td>3</td>\n",
       "      <td>39990</td>\n",
       "      <td>53640</td>\n",
       "      <td>AMD Ryzen 3 Dual Core Processor</td>\n",
       "      <td>8 GB DDR4 RAM</td>\n",
       "      <td>256 GB SSD</td>\n",
       "      <td>https://rukminim1.flixcart.com/image/312/312/k...</td>\n",
       "    </tr>\n",
       "    <tr>\n",
       "      <th>676</th>\n",
       "      <td>Infinix INBook X2 Plus Core i3 11th Gen</td>\n",
       "      <td>4.1</td>\n",
       "      <td>146</td>\n",
       "      <td>32</td>\n",
       "      <td>40990</td>\n",
       "      <td>49990</td>\n",
       "      <td>Intel Core i3 Processor (11th Gen)</td>\n",
       "      <td>8 GB LPDDR4X RAM</td>\n",
       "      <td>512 GB SSD</td>\n",
       "      <td>https://rukminim1.flixcart.com/image/312/312/x...</td>\n",
       "    </tr>\n",
       "    <tr>\n",
       "      <th>677</th>\n",
       "      <td>DELL Inspiron Ryzen 3 Dual Core 3250U</td>\n",
       "      <td>4.5</td>\n",
       "      <td>4</td>\n",
       "      <td>0</td>\n",
       "      <td>40790</td>\n",
       "      <td>50132</td>\n",
       "      <td>AMD Ryzen 3 Dual Core Processor</td>\n",
       "      <td>8 GB DDR4 RAM</td>\n",
       "      <td>256 GB SSD</td>\n",
       "      <td>https://rukminim1.flixcart.com/image/312/312/k...</td>\n",
       "    </tr>\n",
       "  </tbody>\n",
       "</table>\n",
       "<p>160 rows × 10 columns</p>\n",
       "</div>"
      ],
      "text/plain": [
       "                                 ProductName  Stars  Ratings  Reviews  \\\n",
       "7              HP 14s Intel Core i3 11th Gen    4.2     1556      137   \n",
       "9             RedmiBook Pro Core i5 11th Gen    4.1     3641      430   \n",
       "15              DELL Vostro Core i3 11th Gen    4.2       35        1   \n",
       "16             HP 15s Intel Core i3 11th Gen    4.2      328       35   \n",
       "17   ASUS Vivobook 15 Touch Core i3 11th Gen    4.3      317       42   \n",
       "..                                       ...    ...      ...      ...   \n",
       "656             DELL Ryzen 3 Dual Core 3250U    3.5       17        3   \n",
       "657                    DELL Core i3 10th Gen    3.3      122       20   \n",
       "659             DELL Ryzen 3 Dual Core 3250U    3.5       17        3   \n",
       "676  Infinix INBook X2 Plus Core i3 11th Gen    4.1      146       32   \n",
       "677    DELL Inspiron Ryzen 3 Dual Core 3250U    4.5        4        0   \n",
       "\n",
       "     Current_Price    MRP                                         Proccessor  \\\n",
       "7            35990  47206                 Intel Core i3 Processor (11th Gen)   \n",
       "9            39990  59999                 Intel Core i5 Processor (11th Gen)   \n",
       "15           42290  58489  Processor: Intel i3-1115G4 (Base- 1.7 GHz & Tu...   \n",
       "16           40990  50585                 Intel Core i3 Processor (11th Gen)   \n",
       "17           41990  60990                 Intel Core i3 Processor (11th Gen)   \n",
       "..             ...    ...                                                ...   \n",
       "656          39990  53640                    AMD Ryzen 3 Dual Core Processor   \n",
       "657          41990  54992                 Intel Core i3 Processor (10th Gen)   \n",
       "659          39990  53640                    AMD Ryzen 3 Dual Core Processor   \n",
       "676          40990  49990                 Intel Core i3 Processor (11th Gen)   \n",
       "677          40790  50132                    AMD Ryzen 3 Dual Core Processor   \n",
       "\n",
       "                                               Ram  \\\n",
       "7                                    8 GB DDR4 RAM   \n",
       "9                                    8 GB DDR4 RAM   \n",
       "15   RAM & Storage: 8GB DDR4 & 1TB HDD + 256GB SSD   \n",
       "16                                   8 GB DDR4 RAM   \n",
       "17                                   8 GB DDR4 RAM   \n",
       "..                                             ...   \n",
       "656                                  8 GB DDR4 RAM   \n",
       "657                                  8 GB DDR4 RAM   \n",
       "659                                  8 GB DDR4 RAM   \n",
       "676                               8 GB LPDDR4X RAM   \n",
       "677                                  8 GB DDR4 RAM   \n",
       "\n",
       "                                     Storage  \\\n",
       "7                                 256 GB SSD   \n",
       "9                                 512 GB SSD   \n",
       "15   Display: 15.6\" FHD WVA AG Narrow Border   \n",
       "16                                512 GB SSD   \n",
       "17                                512 GB SSD   \n",
       "..                                       ...   \n",
       "656                               256 GB SSD   \n",
       "657                                 1 TB HDD   \n",
       "659                               256 GB SSD   \n",
       "676                               512 GB SSD   \n",
       "677                               256 GB SSD   \n",
       "\n",
       "                                              ImageURL  \n",
       "7    https://rukminim1.flixcart.com/image/312/312/l...  \n",
       "9    https://rukminim1.flixcart.com/image/312/312/k...  \n",
       "15   https://rukminim1.flixcart.com/image/312/312/x...  \n",
       "16   https://rukminim1.flixcart.com/image/312/312/l...  \n",
       "17   https://rukminim1.flixcart.com/image/312/312/l...  \n",
       "..                                                 ...  \n",
       "656  https://rukminim1.flixcart.com/image/312/312/k...  \n",
       "657  https://rukminim1.flixcart.com/image/312/312/k...  \n",
       "659  https://rukminim1.flixcart.com/image/312/312/k...  \n",
       "676  https://rukminim1.flixcart.com/image/312/312/x...  \n",
       "677  https://rukminim1.flixcart.com/image/312/312/k...  \n",
       "\n",
       "[160 rows x 10 columns]"
      ]
     },
     "execution_count": 29,
     "metadata": {},
     "output_type": "execute_result"
    }
   ],
   "source": [
    "midrange_laptops"
   ]
  },
  {
   "cell_type": "markdown",
   "id": "9605acca",
   "metadata": {
    "papermill": {
     "duration": 0.012811,
     "end_time": "2023-02-02T11:21:13.147434",
     "exception": false,
     "start_time": "2023-02-02T11:21:13.134623",
     "status": "completed"
    },
    "tags": []
   },
   "source": [
    "# **Find the Product Highest Reviwes**"
   ]
  },
  {
   "cell_type": "code",
   "execution_count": 30,
   "id": "d88b915b",
   "metadata": {
    "execution": {
     "iopub.execute_input": "2023-02-02T11:21:13.175673Z",
     "iopub.status.busy": "2023-02-02T11:21:13.175319Z",
     "iopub.status.idle": "2023-02-02T11:21:13.187523Z",
     "shell.execute_reply": "2023-02-02T11:21:13.186898Z"
    },
    "papermill": {
     "duration": 0.029005,
     "end_time": "2023-02-02T11:21:13.189454",
     "exception": false,
     "start_time": "2023-02-02T11:21:13.160449",
     "status": "completed"
    },
    "tags": []
   },
   "outputs": [
    {
     "data": {
      "text/html": [
       "<div>\n",
       "<style scoped>\n",
       "    .dataframe tbody tr th:only-of-type {\n",
       "        vertical-align: middle;\n",
       "    }\n",
       "\n",
       "    .dataframe tbody tr th {\n",
       "        vertical-align: top;\n",
       "    }\n",
       "\n",
       "    .dataframe thead th {\n",
       "        text-align: right;\n",
       "    }\n",
       "</style>\n",
       "<table border=\"1\" class=\"dataframe\">\n",
       "  <thead>\n",
       "    <tr style=\"text-align: right;\">\n",
       "      <th></th>\n",
       "      <th>ProductName</th>\n",
       "      <th>Stars</th>\n",
       "      <th>Ratings</th>\n",
       "      <th>Reviews</th>\n",
       "      <th>Current_Price</th>\n",
       "      <th>MRP</th>\n",
       "      <th>Proccessor</th>\n",
       "      <th>Ram</th>\n",
       "      <th>Storage</th>\n",
       "      <th>ImageURL</th>\n",
       "    </tr>\n",
       "  </thead>\n",
       "  <tbody>\n",
       "    <tr>\n",
       "      <th>637</th>\n",
       "      <td>ASUS Celeron Dual Core</td>\n",
       "      <td>3.7</td>\n",
       "      <td>17745</td>\n",
       "      <td>2300</td>\n",
       "      <td>22990</td>\n",
       "      <td>30990</td>\n",
       "      <td>Intel Celeron Dual Core Processor</td>\n",
       "      <td>4 GB DDR4 RAM</td>\n",
       "      <td>1 TB HDD</td>\n",
       "      <td>https://rukminim1.flixcart.com/image/312/312/k...</td>\n",
       "    </tr>\n",
       "  </tbody>\n",
       "</table>\n",
       "</div>"
      ],
      "text/plain": [
       "                ProductName  Stars  Ratings  Reviews  Current_Price    MRP  \\\n",
       "637  ASUS Celeron Dual Core    3.7    17745     2300          22990  30990   \n",
       "\n",
       "                            Proccessor            Ram   Storage  \\\n",
       "637  Intel Celeron Dual Core Processor  4 GB DDR4 RAM  1 TB HDD   \n",
       "\n",
       "                                              ImageURL  \n",
       "637  https://rukminim1.flixcart.com/image/312/312/k...  "
      ]
     },
     "execution_count": 30,
     "metadata": {},
     "output_type": "execute_result"
    }
   ],
   "source": [
    "df[df['Reviews']==max(df['Reviews'])]"
   ]
  },
  {
   "cell_type": "code",
   "execution_count": 31,
   "id": "0d7ea40b",
   "metadata": {
    "execution": {
     "iopub.execute_input": "2023-02-02T11:21:13.219987Z",
     "iopub.status.busy": "2023-02-02T11:21:13.219271Z",
     "iopub.status.idle": "2023-02-02T11:21:13.224854Z",
     "shell.execute_reply": "2023-02-02T11:21:13.223968Z"
    },
    "papermill": {
     "duration": 0.023457,
     "end_time": "2023-02-02T11:21:13.226853",
     "exception": false,
     "start_time": "2023-02-02T11:21:13.203396",
     "status": "completed"
    },
    "tags": []
   },
   "outputs": [],
   "source": [
    "top10 = df.sort_values(by='Reviews',ascending = False).head(10)"
   ]
  },
  {
   "cell_type": "code",
   "execution_count": 32,
   "id": "568ce240",
   "metadata": {
    "execution": {
     "iopub.execute_input": "2023-02-02T11:21:13.255143Z",
     "iopub.status.busy": "2023-02-02T11:21:13.254770Z",
     "iopub.status.idle": "2023-02-02T11:21:13.270012Z",
     "shell.execute_reply": "2023-02-02T11:21:13.269016Z"
    },
    "papermill": {
     "duration": 0.031745,
     "end_time": "2023-02-02T11:21:13.272123",
     "exception": false,
     "start_time": "2023-02-02T11:21:13.240378",
     "status": "completed"
    },
    "tags": []
   },
   "outputs": [
    {
     "data": {
      "text/html": [
       "<div>\n",
       "<style scoped>\n",
       "    .dataframe tbody tr th:only-of-type {\n",
       "        vertical-align: middle;\n",
       "    }\n",
       "\n",
       "    .dataframe tbody tr th {\n",
       "        vertical-align: top;\n",
       "    }\n",
       "\n",
       "    .dataframe thead th {\n",
       "        text-align: right;\n",
       "    }\n",
       "</style>\n",
       "<table border=\"1\" class=\"dataframe\">\n",
       "  <thead>\n",
       "    <tr style=\"text-align: right;\">\n",
       "      <th></th>\n",
       "      <th>ProductName</th>\n",
       "      <th>Stars</th>\n",
       "      <th>Ratings</th>\n",
       "      <th>Reviews</th>\n",
       "      <th>Current_Price</th>\n",
       "      <th>MRP</th>\n",
       "      <th>Proccessor</th>\n",
       "      <th>Ram</th>\n",
       "      <th>Storage</th>\n",
       "      <th>ImageURL</th>\n",
       "    </tr>\n",
       "  </thead>\n",
       "  <tbody>\n",
       "    <tr>\n",
       "      <th>637</th>\n",
       "      <td>ASUS Celeron Dual Core</td>\n",
       "      <td>3.7</td>\n",
       "      <td>17745</td>\n",
       "      <td>2300</td>\n",
       "      <td>22990</td>\n",
       "      <td>30990</td>\n",
       "      <td>Intel Celeron Dual Core Processor</td>\n",
       "      <td>4 GB DDR4 RAM</td>\n",
       "      <td>1 TB HDD</td>\n",
       "      <td>https://rukminim1.flixcart.com/image/312/312/k...</td>\n",
       "    </tr>\n",
       "    <tr>\n",
       "      <th>3</th>\n",
       "      <td>HP Pavilion Ryzen 5 Hexa Core AMD R5</td>\n",
       "      <td>4.4</td>\n",
       "      <td>11854</td>\n",
       "      <td>1199</td>\n",
       "      <td>52990</td>\n",
       "      <td>63539</td>\n",
       "      <td>AMD Ryzen 5 Hexa Core Processor</td>\n",
       "      <td>8 GB DDR4 RAM</td>\n",
       "      <td>512 GB SSD</td>\n",
       "      <td>https://rukminim1.flixcart.com/image/312/312/k...</td>\n",
       "    </tr>\n",
       "    <tr>\n",
       "      <th>226</th>\n",
       "      <td>ASUS VivoBook 15 (2022) Core i3 10th Gen</td>\n",
       "      <td>4.3</td>\n",
       "      <td>9970</td>\n",
       "      <td>999</td>\n",
       "      <td>35990</td>\n",
       "      <td>50990</td>\n",
       "      <td>Intel Core i3 Processor (10th Gen)</td>\n",
       "      <td>8 GB DDR4 RAM</td>\n",
       "      <td>512 GB SSD</td>\n",
       "      <td>https://rukminim1.flixcart.com/image/312/312/k...</td>\n",
       "    </tr>\n",
       "    <tr>\n",
       "      <th>2</th>\n",
       "      <td>ASUS VivoBook 15 (2022) Core i3 10th Gen</td>\n",
       "      <td>4.3</td>\n",
       "      <td>9970</td>\n",
       "      <td>999</td>\n",
       "      <td>32990</td>\n",
       "      <td>45990</td>\n",
       "      <td>Intel Core i3 Processor (10th Gen)</td>\n",
       "      <td>8 GB DDR4 RAM</td>\n",
       "      <td>512 GB SSD</td>\n",
       "      <td>https://rukminim1.flixcart.com/image/312/312/x...</td>\n",
       "    </tr>\n",
       "    <tr>\n",
       "      <th>592</th>\n",
       "      <td>realme Book(Slim) Intel Evo Core i5 11th Gen</td>\n",
       "      <td>4.4</td>\n",
       "      <td>7067</td>\n",
       "      <td>949</td>\n",
       "      <td>59990</td>\n",
       "      <td>69999</td>\n",
       "      <td>Powered by 11th Gen Intel Evo Core i5 Processor</td>\n",
       "      <td>Microsoft Office 2019 Home &amp; Student Included</td>\n",
       "      <td>Intel Core i5 Processor (11th Gen)</td>\n",
       "      <td>https://rukminim1.flixcart.com/image/312/312/k...</td>\n",
       "    </tr>\n",
       "    <tr>\n",
       "      <th>664</th>\n",
       "      <td>realme Book(Slim) Intel Evo Core i5 11th Gen</td>\n",
       "      <td>4.4</td>\n",
       "      <td>7067</td>\n",
       "      <td>949</td>\n",
       "      <td>59990</td>\n",
       "      <td>69999</td>\n",
       "      <td>Powered by 11th Gen Intel Evo Core i5 Processor</td>\n",
       "      <td>Microsoft Office 2019 Home &amp; Student Included</td>\n",
       "      <td>Intel Core i5 Processor (11th Gen)</td>\n",
       "      <td>https://rukminim1.flixcart.com/image/312/312/k...</td>\n",
       "    </tr>\n",
       "    <tr>\n",
       "      <th>310</th>\n",
       "      <td>realme Book(Slim) Intel Evo Core i5 11th Gen</td>\n",
       "      <td>4.4</td>\n",
       "      <td>7067</td>\n",
       "      <td>949</td>\n",
       "      <td>59990</td>\n",
       "      <td>69999</td>\n",
       "      <td>Powered by 11th Gen Intel Evo Core i5 Processor</td>\n",
       "      <td>Microsoft Office 2019 Home &amp; Student Included</td>\n",
       "      <td>Intel Core i5 Processor (11th Gen)</td>\n",
       "      <td>https://rukminim1.flixcart.com/image/312/312/k...</td>\n",
       "    </tr>\n",
       "    <tr>\n",
       "      <th>55</th>\n",
       "      <td>realme Book(Slim) Intel Evo Core i5 11th Gen</td>\n",
       "      <td>4.4</td>\n",
       "      <td>7067</td>\n",
       "      <td>949</td>\n",
       "      <td>59990</td>\n",
       "      <td>69999</td>\n",
       "      <td>Powered by 11th Gen Intel Evo Core i5 Processor</td>\n",
       "      <td>Microsoft Office 2019 Home &amp; Student Included</td>\n",
       "      <td>Intel Core i5 Processor (11th Gen)</td>\n",
       "      <td>https://rukminim1.flixcart.com/image/312/312/k...</td>\n",
       "    </tr>\n",
       "    <tr>\n",
       "      <th>217</th>\n",
       "      <td>realme Book(Slim) Intel Evo Core i5 11th Gen</td>\n",
       "      <td>4.4</td>\n",
       "      <td>7067</td>\n",
       "      <td>949</td>\n",
       "      <td>59990</td>\n",
       "      <td>69999</td>\n",
       "      <td>Powered by 11th Gen Intel Evo Core i5 Processor</td>\n",
       "      <td>Microsoft Office 2019 Home &amp; Student Included</td>\n",
       "      <td>Intel Core i5 Processor (11th Gen)</td>\n",
       "      <td>https://rukminim1.flixcart.com/image/312/312/k...</td>\n",
       "    </tr>\n",
       "    <tr>\n",
       "      <th>147</th>\n",
       "      <td>realme Book(Slim) Intel Evo Core i5 11th Gen</td>\n",
       "      <td>4.4</td>\n",
       "      <td>7067</td>\n",
       "      <td>949</td>\n",
       "      <td>59990</td>\n",
       "      <td>69999</td>\n",
       "      <td>Powered by 11th Gen Intel Evo Core i5 Processor</td>\n",
       "      <td>Microsoft Office 2019 Home &amp; Student Included</td>\n",
       "      <td>Intel Core i5 Processor (11th Gen)</td>\n",
       "      <td>https://rukminim1.flixcart.com/image/312/312/k...</td>\n",
       "    </tr>\n",
       "  </tbody>\n",
       "</table>\n",
       "</div>"
      ],
      "text/plain": [
       "                                      ProductName  Stars  Ratings  Reviews  \\\n",
       "637                        ASUS Celeron Dual Core    3.7    17745     2300   \n",
       "3            HP Pavilion Ryzen 5 Hexa Core AMD R5    4.4    11854     1199   \n",
       "226      ASUS VivoBook 15 (2022) Core i3 10th Gen    4.3     9970      999   \n",
       "2        ASUS VivoBook 15 (2022) Core i3 10th Gen    4.3     9970      999   \n",
       "592  realme Book(Slim) Intel Evo Core i5 11th Gen    4.4     7067      949   \n",
       "664  realme Book(Slim) Intel Evo Core i5 11th Gen    4.4     7067      949   \n",
       "310  realme Book(Slim) Intel Evo Core i5 11th Gen    4.4     7067      949   \n",
       "55   realme Book(Slim) Intel Evo Core i5 11th Gen    4.4     7067      949   \n",
       "217  realme Book(Slim) Intel Evo Core i5 11th Gen    4.4     7067      949   \n",
       "147  realme Book(Slim) Intel Evo Core i5 11th Gen    4.4     7067      949   \n",
       "\n",
       "     Current_Price    MRP                                       Proccessor  \\\n",
       "637          22990  30990                Intel Celeron Dual Core Processor   \n",
       "3            52990  63539                  AMD Ryzen 5 Hexa Core Processor   \n",
       "226          35990  50990               Intel Core i3 Processor (10th Gen)   \n",
       "2            32990  45990               Intel Core i3 Processor (10th Gen)   \n",
       "592          59990  69999  Powered by 11th Gen Intel Evo Core i5 Processor   \n",
       "664          59990  69999  Powered by 11th Gen Intel Evo Core i5 Processor   \n",
       "310          59990  69999  Powered by 11th Gen Intel Evo Core i5 Processor   \n",
       "55           59990  69999  Powered by 11th Gen Intel Evo Core i5 Processor   \n",
       "217          59990  69999  Powered by 11th Gen Intel Evo Core i5 Processor   \n",
       "147          59990  69999  Powered by 11th Gen Intel Evo Core i5 Processor   \n",
       "\n",
       "                                               Ram  \\\n",
       "637                                  4 GB DDR4 RAM   \n",
       "3                                    8 GB DDR4 RAM   \n",
       "226                                  8 GB DDR4 RAM   \n",
       "2                                    8 GB DDR4 RAM   \n",
       "592  Microsoft Office 2019 Home & Student Included   \n",
       "664  Microsoft Office 2019 Home & Student Included   \n",
       "310  Microsoft Office 2019 Home & Student Included   \n",
       "55   Microsoft Office 2019 Home & Student Included   \n",
       "217  Microsoft Office 2019 Home & Student Included   \n",
       "147  Microsoft Office 2019 Home & Student Included   \n",
       "\n",
       "                                Storage  \\\n",
       "637                            1 TB HDD   \n",
       "3                            512 GB SSD   \n",
       "226                          512 GB SSD   \n",
       "2                            512 GB SSD   \n",
       "592  Intel Core i5 Processor (11th Gen)   \n",
       "664  Intel Core i5 Processor (11th Gen)   \n",
       "310  Intel Core i5 Processor (11th Gen)   \n",
       "55   Intel Core i5 Processor (11th Gen)   \n",
       "217  Intel Core i5 Processor (11th Gen)   \n",
       "147  Intel Core i5 Processor (11th Gen)   \n",
       "\n",
       "                                              ImageURL  \n",
       "637  https://rukminim1.flixcart.com/image/312/312/k...  \n",
       "3    https://rukminim1.flixcart.com/image/312/312/k...  \n",
       "226  https://rukminim1.flixcart.com/image/312/312/k...  \n",
       "2    https://rukminim1.flixcart.com/image/312/312/x...  \n",
       "592  https://rukminim1.flixcart.com/image/312/312/k...  \n",
       "664  https://rukminim1.flixcart.com/image/312/312/k...  \n",
       "310  https://rukminim1.flixcart.com/image/312/312/k...  \n",
       "55   https://rukminim1.flixcart.com/image/312/312/k...  \n",
       "217  https://rukminim1.flixcart.com/image/312/312/k...  \n",
       "147  https://rukminim1.flixcart.com/image/312/312/k...  "
      ]
     },
     "execution_count": 32,
     "metadata": {},
     "output_type": "execute_result"
    }
   ],
   "source": [
    "top10"
   ]
  },
  {
   "cell_type": "code",
   "execution_count": 33,
   "id": "6a774245",
   "metadata": {
    "execution": {
     "iopub.execute_input": "2023-02-02T11:21:13.301479Z",
     "iopub.status.busy": "2023-02-02T11:21:13.301136Z",
     "iopub.status.idle": "2023-02-02T11:21:13.475611Z",
     "shell.execute_reply": "2023-02-02T11:21:13.474124Z"
    },
    "papermill": {
     "duration": 0.192263,
     "end_time": "2023-02-02T11:21:13.478317",
     "exception": false,
     "start_time": "2023-02-02T11:21:13.286054",
     "status": "completed"
    },
    "tags": []
   },
   "outputs": [
    {
     "data": {
      "image/png": "[encoded data removed]",
      "text/plain": [
       "<Figure size 1080x504 with 1 Axes>"
      ]
     },
     "metadata": {
      "needs_background": "light"
     },
     "output_type": "display_data"
    }
   ],
   "source": [
    "plt.figure(figsize=(15,7))\n",
    "plt.bar(x=top10['ProductName'],height=top10['Reviews'])\n",
    "plt.title('Highest Reviews Laptops',fontsize=15)\n",
    "plt.xlabel('Laptop Name',fontsize=15)\n",
    "plt.ylabel('Total Ratings',fontsize=15)\n",
    "plt.xticks(rotation = 270)\n",
    "#plt.savefig('My Chart.jpg')\n",
    "plt.show()\n"
   ]
  },
  {
   "cell_type": "code",
   "execution_count": null,
   "id": "ed2f1cbc",
   "metadata": {
    "papermill": {
     "duration": 0.013635,
     "end_time": "2023-02-02T11:21:13.506395",
     "exception": false,
     "start_time": "2023-02-02T11:21:13.492760",
     "status": "completed"
    },
    "tags": []
   },
   "outputs": [],
   "source": []
  },
  {
   "cell_type": "code",
   "execution_count": null,
   "id": "6da8ae65",
   "metadata": {
    "papermill": {
     "duration": 0.01379,
     "end_time": "2023-02-02T11:21:13.534180",
     "exception": false,
     "start_time": "2023-02-02T11:21:13.520390",
     "status": "completed"
    },
    "tags": []
   },
   "outputs": [],
   "source": []
  },
  {
   "cell_type": "code",
   "execution_count": null,
   "id": "0084ee41",
   "metadata": {
    "papermill": {
     "duration": 0.013332,
     "end_time": "2023-02-02T11:21:13.561592",
     "exception": false,
     "start_time": "2023-02-02T11:21:13.548260",
     "status": "completed"
    },
    "tags": []
   },
   "outputs": [],
   "source": []
  },
  {
   "cell_type": "code",
   "execution_count": null,
   "id": "8a9bcd92",
   "metadata": {
    "papermill": {
     "duration": 0.013641,
     "end_time": "2023-02-02T11:21:13.589107",
     "exception": false,
     "start_time": "2023-02-02T11:21:13.575466",
     "status": "completed"
    },
    "tags": []
   },
   "outputs": [],
   "source": []
  }
 ],
 "metadata": {
  "kernelspec": {
   "display_name": "Python 3",
   "language": "python",
   "name": "python3"
  },
  "language_info": {
   "codemirror_mode": {
    "name": "ipython",
    "version": 3
   },
   "file_extension": ".py",
   "mimetype": "text/x-python",
   "name": "python",
   "nbconvert_exporter": "python",
   "pygments_lexer": "ipython3",
   "version": "3.7.12"
  },
  "papermill": {
   "default_parameters": {},
   "duration": 11.48016,
   "end_time": "2023-02-02T11:21:14.323654",
   "environment_variables": {},
   "exception": null,
   "input_path": "__notebook__.ipynb",
   "output_path": "__notebook__.ipynb",
   "parameters": {},
   "start_time": "2023-02-02T11:21:02.843494",
   "version": "2.3.4"
  }
 },
 "nbformat": 4,
 "nbformat_minor": 5
}
